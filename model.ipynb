{
 "cells": [
  {
   "cell_type": "code",
   "execution_count": 1,
   "metadata": {},
   "outputs": [],
   "source": [
    "from datetime import datetime\n",
    "\n",
    "import torch\n",
    "import torch.nn as nn\n",
    "import matplotlib.pyplot as plt\n",
    "import numpy as np\n",
    "import pandas as pd\n",
    "\n",
    "from ipynb.fs.defs.functions import prep_data, train, test\n",
    "\n",
    "# Setup rng\n",
    "torch.manual_seed(42)\n",
    "np.random.seed(42)"
   ]
  },
  {
   "cell_type": "code",
   "execution_count": 2,
   "metadata": {},
   "outputs": [
    {
     "name": "stdout",
     "output_type": "stream",
     "text": [
      "Using device: cuda\n"
     ]
    }
   ],
   "source": [
    "# Check cuda is available and if so, set DEVICE to use gpu device\n",
    "DEVICE = torch.device(\"cuda\" if torch.cuda.is_available() else \"cpu\")\n",
    "print(f\"Using device: {DEVICE}\")"
   ]
  },
  {
   "cell_type": "code",
   "execution_count": 3,
   "metadata": {},
   "outputs": [],
   "source": [
    "# Load images and labels\n",
    "data = pd.read_csv(\"data/unzipped/training_solutions_rev1.csv\")"
   ]
  },
  {
   "cell_type": "code",
   "execution_count": 4,
   "metadata": {},
   "outputs": [
    {
     "data": {
      "text/html": [
       "<div>\n",
       "<style scoped>\n",
       "    .dataframe tbody tr th:only-of-type {\n",
       "        vertical-align: middle;\n",
       "    }\n",
       "\n",
       "    .dataframe tbody tr th {\n",
       "        vertical-align: top;\n",
       "    }\n",
       "\n",
       "    .dataframe thead th {\n",
       "        text-align: right;\n",
       "    }\n",
       "</style>\n",
       "<table border=\"1\" class=\"dataframe\">\n",
       "  <thead>\n",
       "    <tr style=\"text-align: right;\">\n",
       "      <th></th>\n",
       "      <th>GalaxyID</th>\n",
       "      <th>Class1.1</th>\n",
       "      <th>Class1.2</th>\n",
       "      <th>Class1.3</th>\n",
       "      <th>Class2.1</th>\n",
       "      <th>Class2.2</th>\n",
       "      <th>Class3.1</th>\n",
       "      <th>Class3.2</th>\n",
       "      <th>Class4.1</th>\n",
       "      <th>Class4.2</th>\n",
       "      <th>...</th>\n",
       "      <th>Class9.3</th>\n",
       "      <th>Class10.1</th>\n",
       "      <th>Class10.2</th>\n",
       "      <th>Class10.3</th>\n",
       "      <th>Class11.1</th>\n",
       "      <th>Class11.2</th>\n",
       "      <th>Class11.3</th>\n",
       "      <th>Class11.4</th>\n",
       "      <th>Class11.5</th>\n",
       "      <th>Class11.6</th>\n",
       "    </tr>\n",
       "  </thead>\n",
       "  <tbody>\n",
       "    <tr>\n",
       "      <th>0</th>\n",
       "      <td>100008</td>\n",
       "      <td>0.383147</td>\n",
       "      <td>0.616853</td>\n",
       "      <td>0.000000</td>\n",
       "      <td>0.000000</td>\n",
       "      <td>0.616853</td>\n",
       "      <td>0.038452</td>\n",
       "      <td>0.578401</td>\n",
       "      <td>0.418398</td>\n",
       "      <td>0.198455</td>\n",
       "      <td>...</td>\n",
       "      <td>0.000000</td>\n",
       "      <td>0.279952</td>\n",
       "      <td>0.138445</td>\n",
       "      <td>0.000000</td>\n",
       "      <td>0.000000</td>\n",
       "      <td>0.092886</td>\n",
       "      <td>0.0</td>\n",
       "      <td>0.0</td>\n",
       "      <td>0.0</td>\n",
       "      <td>0.325512</td>\n",
       "    </tr>\n",
       "    <tr>\n",
       "      <th>1</th>\n",
       "      <td>100023</td>\n",
       "      <td>0.327001</td>\n",
       "      <td>0.663777</td>\n",
       "      <td>0.009222</td>\n",
       "      <td>0.031178</td>\n",
       "      <td>0.632599</td>\n",
       "      <td>0.467370</td>\n",
       "      <td>0.165229</td>\n",
       "      <td>0.591328</td>\n",
       "      <td>0.041271</td>\n",
       "      <td>...</td>\n",
       "      <td>0.018764</td>\n",
       "      <td>0.000000</td>\n",
       "      <td>0.131378</td>\n",
       "      <td>0.459950</td>\n",
       "      <td>0.000000</td>\n",
       "      <td>0.591328</td>\n",
       "      <td>0.0</td>\n",
       "      <td>0.0</td>\n",
       "      <td>0.0</td>\n",
       "      <td>0.000000</td>\n",
       "    </tr>\n",
       "    <tr>\n",
       "      <th>2</th>\n",
       "      <td>100053</td>\n",
       "      <td>0.765717</td>\n",
       "      <td>0.177352</td>\n",
       "      <td>0.056931</td>\n",
       "      <td>0.000000</td>\n",
       "      <td>0.177352</td>\n",
       "      <td>0.000000</td>\n",
       "      <td>0.177352</td>\n",
       "      <td>0.000000</td>\n",
       "      <td>0.177352</td>\n",
       "      <td>...</td>\n",
       "      <td>0.000000</td>\n",
       "      <td>0.000000</td>\n",
       "      <td>0.000000</td>\n",
       "      <td>0.000000</td>\n",
       "      <td>0.000000</td>\n",
       "      <td>0.000000</td>\n",
       "      <td>0.0</td>\n",
       "      <td>0.0</td>\n",
       "      <td>0.0</td>\n",
       "      <td>0.000000</td>\n",
       "    </tr>\n",
       "    <tr>\n",
       "      <th>3</th>\n",
       "      <td>100078</td>\n",
       "      <td>0.693377</td>\n",
       "      <td>0.238564</td>\n",
       "      <td>0.068059</td>\n",
       "      <td>0.000000</td>\n",
       "      <td>0.238564</td>\n",
       "      <td>0.109493</td>\n",
       "      <td>0.129071</td>\n",
       "      <td>0.189098</td>\n",
       "      <td>0.049466</td>\n",
       "      <td>...</td>\n",
       "      <td>0.000000</td>\n",
       "      <td>0.094549</td>\n",
       "      <td>0.000000</td>\n",
       "      <td>0.094549</td>\n",
       "      <td>0.189098</td>\n",
       "      <td>0.000000</td>\n",
       "      <td>0.0</td>\n",
       "      <td>0.0</td>\n",
       "      <td>0.0</td>\n",
       "      <td>0.000000</td>\n",
       "    </tr>\n",
       "    <tr>\n",
       "      <th>4</th>\n",
       "      <td>100090</td>\n",
       "      <td>0.933839</td>\n",
       "      <td>0.000000</td>\n",
       "      <td>0.066161</td>\n",
       "      <td>0.000000</td>\n",
       "      <td>0.000000</td>\n",
       "      <td>0.000000</td>\n",
       "      <td>0.000000</td>\n",
       "      <td>0.000000</td>\n",
       "      <td>0.000000</td>\n",
       "      <td>...</td>\n",
       "      <td>0.000000</td>\n",
       "      <td>0.000000</td>\n",
       "      <td>0.000000</td>\n",
       "      <td>0.000000</td>\n",
       "      <td>0.000000</td>\n",
       "      <td>0.000000</td>\n",
       "      <td>0.0</td>\n",
       "      <td>0.0</td>\n",
       "      <td>0.0</td>\n",
       "      <td>0.000000</td>\n",
       "    </tr>\n",
       "  </tbody>\n",
       "</table>\n",
       "<p>5 rows × 38 columns</p>\n",
       "</div>"
      ],
      "text/plain": [
       "   GalaxyID  Class1.1  Class1.2  Class1.3  Class2.1  Class2.2  Class3.1  \\\n",
       "0    100008  0.383147  0.616853  0.000000  0.000000  0.616853  0.038452   \n",
       "1    100023  0.327001  0.663777  0.009222  0.031178  0.632599  0.467370   \n",
       "2    100053  0.765717  0.177352  0.056931  0.000000  0.177352  0.000000   \n",
       "3    100078  0.693377  0.238564  0.068059  0.000000  0.238564  0.109493   \n",
       "4    100090  0.933839  0.000000  0.066161  0.000000  0.000000  0.000000   \n",
       "\n",
       "   Class3.2  Class4.1  Class4.2  ...  Class9.3  Class10.1  Class10.2  \\\n",
       "0  0.578401  0.418398  0.198455  ...  0.000000   0.279952   0.138445   \n",
       "1  0.165229  0.591328  0.041271  ...  0.018764   0.000000   0.131378   \n",
       "2  0.177352  0.000000  0.177352  ...  0.000000   0.000000   0.000000   \n",
       "3  0.129071  0.189098  0.049466  ...  0.000000   0.094549   0.000000   \n",
       "4  0.000000  0.000000  0.000000  ...  0.000000   0.000000   0.000000   \n",
       "\n",
       "   Class10.3  Class11.1  Class11.2  Class11.3  Class11.4  Class11.5  Class11.6  \n",
       "0   0.000000   0.000000   0.092886        0.0        0.0        0.0   0.325512  \n",
       "1   0.459950   0.000000   0.591328        0.0        0.0        0.0   0.000000  \n",
       "2   0.000000   0.000000   0.000000        0.0        0.0        0.0   0.000000  \n",
       "3   0.094549   0.189098   0.000000        0.0        0.0        0.0   0.000000  \n",
       "4   0.000000   0.000000   0.000000        0.0        0.0        0.0   0.000000  \n",
       "\n",
       "[5 rows x 38 columns]"
      ]
     },
     "execution_count": 4,
     "metadata": {},
     "output_type": "execute_result"
    }
   ],
   "source": [
    "data.head()"
   ]
  },
  {
   "cell_type": "code",
   "execution_count": 5,
   "metadata": {},
   "outputs": [],
   "source": [
    "# Create train, test, and validation sets\n",
    "train_dataset, test_dataset, val_dataset = prep_data(data)"
   ]
  },
  {
   "cell_type": "code",
   "execution_count": 6,
   "metadata": {},
   "outputs": [
    {
     "name": "stdout",
     "output_type": "stream",
     "text": [
      "Training input shape: torch.Size([49262, 3, 64, 64])\n",
      "Training output shape: torch.Size([49262, 37])\n"
     ]
    }
   ],
   "source": [
    "print(\n",
    "    f\"Training input shape: {train_dataset.tensors[0].shape}\\nTraining output shape: {train_dataset.tensors[1].shape}\"\n",
    ")"
   ]
  },
  {
   "cell_type": "markdown",
   "metadata": {},
   "source": [
    "## Model Definition"
   ]
  },
  {
   "cell_type": "code",
   "execution_count": 7,
   "metadata": {},
   "outputs": [],
   "source": [
    "# Define a torch model\n",
    "class Model(nn.Module):\n",
    "    def __init__(self):\n",
    "        super(Model, self).__init__()\n",
    "        # Convolutional layers\n",
    "        self.conv1 = nn.Conv2d(in_channels=3, out_channels=32, kernel_size=3, padding=1)\n",
    "        self.conv2 = nn.Conv2d(in_channels=32, out_channels=64, kernel_size=3, padding=1)\n",
    "        self.conv3 = nn.Conv2d(in_channels=64, out_channels=128, kernel_size=3, padding=1)\n",
    "\n",
    "        # Max pooling\n",
    "        self.pool = nn.MaxPool2d(kernel_size=2, stride=2)\n",
    "\n",
    "        # Dropout\n",
    "        self.dropout = nn.Dropout(p=0.5)\n",
    "\n",
    "        # Batch normalization\n",
    "        self.bn1 = nn.BatchNorm2d(32)\n",
    "        self.bn2 = nn.BatchNorm2d(64)\n",
    "        self.bn3 = nn.BatchNorm2d(128)\n",
    "\n",
    "        # Fully connected layers\n",
    "        self.flatten = nn.Flatten()\n",
    "        self.fc1 = nn.Linear(in_features=128 * 8 * 8, out_features=128)\n",
    "        self.fc2 = nn.Linear(in_features=128, out_features=64)\n",
    "        self.fc3 = nn.Linear(in_features=64, out_features=37)\n",
    "\n",
    "        # Activation functions\n",
    "        self.relu = nn.ReLU()\n",
    "        self.softmax = nn.Softmax(dim=1)\n",
    "\n",
    "    def forward(self, x):\n",
    "        # Convolutional layers\n",
    "        x = self.pool(self.relu(self.bn1(self.conv1(x))))\n",
    "        x = torch.nn.functional.normalize(x, p=2, dim=1, eps=1e-12)\n",
    "        x = self.dropout(x)\n",
    "        x = self.pool(self.relu(self.bn2(self.conv2(x))))\n",
    "        x = torch.nn.functional.normalize(x, p=2, dim=1, eps=1e-12)\n",
    "        x = self.dropout(x)\n",
    "        x = self.pool(self.relu(self.bn3(self.conv3(x))))\n",
    "        x = torch.nn.functional.normalize(x, p=2, dim=1, eps=1e-12)\n",
    "        x = self.dropout(x)\n",
    "\n",
    "        # Fully connected layers\n",
    "        x = self.flatten(x)\n",
    "        x = self.relu(self.fc1(x))\n",
    "        x = self.relu(self.fc2(x))\n",
    "        x = self.softmax(self.fc3(x))\n",
    "\n",
    "        return x"
   ]
  },
  {
   "cell_type": "markdown",
   "metadata": {},
   "source": [
    "## Training"
   ]
  },
  {
   "cell_type": "code",
   "execution_count": 8,
   "metadata": {},
   "outputs": [],
   "source": [
    "# Instantiate the model\n",
    "model = Model().to(DEVICE)"
   ]
  },
  {
   "cell_type": "code",
   "execution_count": 9,
   "metadata": {},
   "outputs": [
    {
     "name": "stdout",
     "output_type": "stream",
     "text": [
      "Model output shape: torch.Size([1, 37])\n"
     ]
    }
   ],
   "source": [
    "# Run a single image through the model\n",
    "model_output = model(train_dataset.tensors[0][0].unsqueeze(0))\n",
    "print(f\"Model output shape: {model_output.shape}\")"
   ]
  },
  {
   "cell_type": "code",
   "execution_count": 10,
   "metadata": {},
   "outputs": [],
   "source": [
    "# Training Parameters\n",
    "EPOCHS = 200\n",
    "BATCH_SIZE = 64\n",
    "LR = 0.001\n",
    "GAMMA = 0.99"
   ]
  },
  {
   "cell_type": "code",
   "execution_count": 11,
   "metadata": {},
   "outputs": [],
   "source": [
    "# Create a loss function and optimizer\n",
    "criterion = nn.CrossEntropyLoss()  # Competition requested MSE loss\n",
    "optimizer = torch.optim.Adam(model.parameters(), lr=LR)\n",
    "scheduler = torch.optim.lr_scheduler.ExponentialLR(optimizer, gamma=GAMMA)"
   ]
  },
  {
   "cell_type": "code",
   "execution_count": 12,
   "metadata": {},
   "outputs": [],
   "source": [
    "# Create a data loader for the training data\n",
    "train_loader = torch.utils.data.DataLoader(train_dataset, batch_size=BATCH_SIZE, shuffle=True)\n",
    "\n",
    "# Create a data loader for the test data\n",
    "test_loader = torch.utils.data.DataLoader(test_dataset, batch_size=BATCH_SIZE, shuffle=False)"
   ]
  },
  {
   "cell_type": "code",
   "execution_count": 13,
   "metadata": {},
   "outputs": [
    {
     "name": "stdout",
     "output_type": "stream",
     "text": [
      "11/18 11:17:41 Train Epoch:    1 [49262/49262 (100%)]\tTrain Loss: 17.698826\tTest Loss: 17.808401\n",
      "11/18 11:17:45 Train Epoch:    2 [49262/49262 (100%)]\tTrain Loss: 17.690833\tTest Loss: 17.808401\n",
      "11/18 11:17:49 Train Epoch:    3 [49262/49262 (100%)]\tTrain Loss: 17.690974\tTest Loss: 17.808401\n",
      "11/18 11:17:53 Train Epoch:    4 [49262/49262 (100%)]\tTrain Loss: 17.690392\tTest Loss: 17.808401\n",
      "11/18 11:17:57 Train Epoch:    5 [49262/49262 (100%)]\tTrain Loss: 17.691225\tTest Loss: 17.808401\n",
      "11/18 11:18:01 Train Epoch:    6 [49262/49262 (100%)]\tTrain Loss: 17.691396\tTest Loss: 17.808401\n",
      "11/18 11:18:05 Train Epoch:    7 [49262/49262 (100%)]\tTrain Loss: 17.689605\tTest Loss: 17.806219\n",
      "11/18 11:18:09 Train Epoch:    8 [49262/49262 (100%)]\tTrain Loss: 17.688128\tTest Loss: 17.804567\n",
      "11/18 11:18:13 Train Epoch:    9 [49262/49262 (100%)]\tTrain Loss: 17.686143\tTest Loss: 17.805278\n",
      "11/18 11:18:17 Train Epoch:   10 [49262/49262 (100%)]\tTrain Loss: 17.685498\tTest Loss: 17.803408\n",
      "11/18 11:18:21 Train Epoch:   11 [49262/49262 (100%)]\tTrain Loss: 17.685118\tTest Loss: 17.807006\n",
      "11/18 11:18:25 Train Epoch:   12 [49262/49262 (100%)]\tTrain Loss: 17.684647\tTest Loss: 17.802245\n",
      "11/18 11:18:29 Train Epoch:   13 [49262/49262 (100%)]\tTrain Loss: 17.683801\tTest Loss: 17.802043\n",
      "11/18 11:18:33 Train Epoch:   14 [49262/49262 (100%)]\tTrain Loss: 17.683328\tTest Loss: 17.801771\n",
      "11/18 11:18:37 Train Epoch:   15 [49262/49262 (100%)]\tTrain Loss: 17.678098\tTest Loss: 17.777885\n",
      "11/18 11:18:41 Train Epoch:   16 [49262/49262 (100%)]\tTrain Loss: 17.645796\tTest Loss: 17.758644\n",
      "11/18 11:18:45 Train Epoch:   17 [49262/49262 (100%)]\tTrain Loss: 17.639523\tTest Loss: 17.756090\n",
      "11/18 11:18:49 Train Epoch:   18 [49262/49262 (100%)]\tTrain Loss: 17.636468\tTest Loss: 17.752381\n",
      "11/18 11:18:53 Train Epoch:   19 [49262/49262 (100%)]\tTrain Loss: 17.634468\tTest Loss: 17.754989\n",
      "11/18 11:18:57 Train Epoch:   20 [49262/49262 (100%)]\tTrain Loss: 17.633096\tTest Loss: 17.749875\n",
      "11/18 11:19:01 Train Epoch:   21 [49262/49262 (100%)]\tTrain Loss: 17.632092\tTest Loss: 17.746428\n",
      "11/18 11:19:05 Train Epoch:   22 [49262/49262 (100%)]\tTrain Loss: 17.630878\tTest Loss: 17.745432\n",
      "11/18 11:19:09 Train Epoch:   23 [49262/49262 (100%)]\tTrain Loss: 17.629560\tTest Loss: 17.745403\n",
      "11/18 11:19:12 Train Epoch:   24 [49262/49262 (100%)]\tTrain Loss: 17.627931\tTest Loss: 17.744377\n",
      "11/18 11:19:16 Train Epoch:   25 [49262/49262 (100%)]\tTrain Loss: 17.626106\tTest Loss: 17.743660\n",
      "11/18 11:19:20 Train Epoch:   26 [49262/49262 (100%)]\tTrain Loss: 17.625203\tTest Loss: 17.741587\n",
      "11/18 11:19:24 Train Epoch:   27 [49262/49262 (100%)]\tTrain Loss: 17.624484\tTest Loss: 17.740707\n",
      "11/18 11:19:28 Train Epoch:   28 [49262/49262 (100%)]\tTrain Loss: 17.623061\tTest Loss: 17.746317\n",
      "11/18 11:19:32 Train Epoch:   29 [49262/49262 (100%)]\tTrain Loss: 17.621857\tTest Loss: 17.737825\n",
      "11/18 11:19:36 Train Epoch:   30 [49262/49262 (100%)]\tTrain Loss: 17.621244\tTest Loss: 17.739609\n",
      "11/18 11:19:40 Train Epoch:   31 [49262/49262 (100%)]\tTrain Loss: 17.619997\tTest Loss: 17.735315\n",
      "11/18 11:19:44 Train Epoch:   32 [49262/49262 (100%)]\tTrain Loss: 17.619135\tTest Loss: 17.735387\n",
      "11/18 11:19:48 Train Epoch:   33 [49262/49262 (100%)]\tTrain Loss: 17.617410\tTest Loss: 17.733545\n",
      "11/18 11:19:52 Train Epoch:   34 [49262/49262 (100%)]\tTrain Loss: 17.617123\tTest Loss: 17.739816\n",
      "11/18 11:19:56 Train Epoch:   35 [49262/49262 (100%)]\tTrain Loss: 17.616409\tTest Loss: 17.736631\n",
      "11/18 11:20:00 Train Epoch:   36 [49262/49262 (100%)]\tTrain Loss: 17.615040\tTest Loss: 17.748349\n",
      "11/18 11:20:04 Train Epoch:   37 [49262/49262 (100%)]\tTrain Loss: 17.614029\tTest Loss: 17.738325\n",
      "11/18 11:20:08 Train Epoch:   38 [49262/49262 (100%)]\tTrain Loss: 17.613225\tTest Loss: 17.737935\n",
      "11/18 11:20:12 Train Epoch:   39 [49262/49262 (100%)]\tTrain Loss: 17.612206\tTest Loss: 17.734783\n",
      "11/18 11:20:16 Train Epoch:   40 [49262/49262 (100%)]\tTrain Loss: 17.612347\tTest Loss: 17.737347\n",
      "11/18 11:20:20 Train Epoch:   41 [49262/49262 (100%)]\tTrain Loss: 17.612113\tTest Loss: 17.744001\n",
      "11/18 11:20:24 Train Epoch:   42 [49262/49262 (100%)]\tTrain Loss: 17.611382\tTest Loss: 17.734379\n",
      "11/18 11:20:28 Train Epoch:   43 [49262/49262 (100%)]\tTrain Loss: 17.610765\tTest Loss: 17.737350\n",
      "11/18 11:20:32 Train Epoch:   44 [49262/49262 (100%)]\tTrain Loss: 17.610448\tTest Loss: 17.737170\n",
      "11/18 11:20:36 Train Epoch:   45 [49262/49262 (100%)]\tTrain Loss: 17.609105\tTest Loss: 17.733004\n",
      "11/18 11:20:40 Train Epoch:   46 [49262/49262 (100%)]\tTrain Loss: 17.609255\tTest Loss: 17.733070\n",
      "11/18 11:20:44 Train Epoch:   47 [49262/49262 (100%)]\tTrain Loss: 17.608534\tTest Loss: 17.729765\n",
      "11/18 11:20:48 Train Epoch:   48 [49262/49262 (100%)]\tTrain Loss: 17.607993\tTest Loss: 17.730990\n",
      "11/18 11:20:52 Train Epoch:   49 [49262/49262 (100%)]\tTrain Loss: 17.608459\tTest Loss: 17.730559\n",
      "11/18 11:20:55 Train Epoch:   50 [49262/49262 (100%)]\tTrain Loss: 17.607495\tTest Loss: 17.734390\n",
      "11/18 11:20:59 Train Epoch:   51 [49262/49262 (100%)]\tTrain Loss: 17.606903\tTest Loss: 17.727600\n",
      "11/18 11:21:03 Train Epoch:   52 [49262/49262 (100%)]\tTrain Loss: 17.606006\tTest Loss: 17.730086\n",
      "11/18 11:21:07 Train Epoch:   53 [49262/49262 (100%)]\tTrain Loss: 17.606145\tTest Loss: 17.728008\n",
      "11/18 11:21:11 Train Epoch:   54 [49262/49262 (100%)]\tTrain Loss: 17.605760\tTest Loss: 17.736441\n",
      "11/18 11:21:15 Train Epoch:   55 [49262/49262 (100%)]\tTrain Loss: 17.605695\tTest Loss: 17.735839\n",
      "11/18 11:21:19 Train Epoch:   56 [49262/49262 (100%)]\tTrain Loss: 17.604981\tTest Loss: 17.731458\n",
      "11/18 11:21:23 Train Epoch:   57 [49262/49262 (100%)]\tTrain Loss: 17.605019\tTest Loss: 17.732770\n",
      "11/18 11:21:27 Train Epoch:   58 [49262/49262 (100%)]\tTrain Loss: 17.604281\tTest Loss: 17.727068\n",
      "11/18 11:21:31 Train Epoch:   59 [49262/49262 (100%)]\tTrain Loss: 17.604783\tTest Loss: 17.734387\n",
      "11/18 11:21:35 Train Epoch:   60 [49262/49262 (100%)]\tTrain Loss: 17.603793\tTest Loss: 17.731632\n",
      "11/18 11:21:39 Train Epoch:   61 [49262/49262 (100%)]\tTrain Loss: 17.604212\tTest Loss: 17.727346\n",
      "11/18 11:21:43 Train Epoch:   62 [49262/49262 (100%)]\tTrain Loss: 17.603346\tTest Loss: 17.727860\n",
      "11/18 11:21:47 Train Epoch:   63 [49262/49262 (100%)]\tTrain Loss: 17.602660\tTest Loss: 17.723182\n",
      "11/18 11:21:51 Train Epoch:   64 [49262/49262 (100%)]\tTrain Loss: 17.603375\tTest Loss: 17.728376\n",
      "11/18 11:21:56 Train Epoch:   65 [49262/49262 (100%)]\tTrain Loss: 17.602188\tTest Loss: 17.727548\n",
      "11/18 11:22:00 Train Epoch:   66 [49262/49262 (100%)]\tTrain Loss: 17.602330\tTest Loss: 17.723535\n",
      "11/18 11:22:04 Train Epoch:   67 [49262/49262 (100%)]\tTrain Loss: 17.602220\tTest Loss: 17.729630\n",
      "11/18 11:22:09 Train Epoch:   68 [49262/49262 (100%)]\tTrain Loss: 17.602301\tTest Loss: 17.724363\n",
      "11/18 11:22:11 Train Epoch:   69 [49262/49262 (100%)]\tTrain Loss: 17.601671\tTest Loss: 17.729354\n",
      "11/18 11:22:15 Train Epoch:   70 [49262/49262 (100%)]\tTrain Loss: 17.601625\tTest Loss: 17.725622\n",
      "11/18 11:22:19 Train Epoch:   71 [49262/49262 (100%)]\tTrain Loss: 17.601607\tTest Loss: 17.726806\n",
      "11/18 11:22:23 Train Epoch:   72 [49262/49262 (100%)]\tTrain Loss: 17.600555\tTest Loss: 17.725069\n",
      "11/18 11:22:27 Train Epoch:   73 [49262/49262 (100%)]\tTrain Loss: 17.600617\tTest Loss: 17.724572\n",
      "11/18 11:22:32 Train Epoch:   74 [49262/49262 (100%)]\tTrain Loss: 17.600093\tTest Loss: 17.730425\n",
      "11/18 11:22:36 Train Epoch:   75 [49262/49262 (100%)]\tTrain Loss: 17.599895\tTest Loss: 17.726505\n",
      "11/18 11:22:40 Train Epoch:   76 [49262/49262 (100%)]\tTrain Loss: 17.600269\tTest Loss: 17.726081\n",
      "11/18 11:22:44 Train Epoch:   77 [49262/49262 (100%)]\tTrain Loss: 17.600132\tTest Loss: 17.731663\n",
      "11/18 11:22:48 Train Epoch:   78 [49262/49262 (100%)]\tTrain Loss: 17.599250\tTest Loss: 17.731296\n",
      "11/18 11:22:52 Train Epoch:   79 [49262/49262 (100%)]\tTrain Loss: 17.599526\tTest Loss: 17.728508\n",
      "11/18 11:22:56 Train Epoch:   80 [49262/49262 (100%)]\tTrain Loss: 17.599521\tTest Loss: 17.727918\n",
      "11/18 11:23:00 Train Epoch:   81 [49262/49262 (100%)]\tTrain Loss: 17.598624\tTest Loss: 17.728814\n",
      "11/18 11:23:04 Train Epoch:   82 [49262/49262 (100%)]\tTrain Loss: 17.599034\tTest Loss: 17.725064\n",
      "11/18 11:23:08 Train Epoch:   83 [49262/49262 (100%)]\tTrain Loss: 17.599185\tTest Loss: 17.734271\n",
      "11/18 11:23:12 Train Epoch:   84 [49262/49262 (100%)]\tTrain Loss: 17.598332\tTest Loss: 17.729588\n",
      "11/18 11:23:16 Train Epoch:   85 [49262/49262 (100%)]\tTrain Loss: 17.598641\tTest Loss: 17.724471\n",
      "11/18 11:23:20 Train Epoch:   86 [49262/49262 (100%)]\tTrain Loss: 17.598829\tTest Loss: 17.727498\n",
      "11/18 11:23:24 Train Epoch:   87 [49262/49262 (100%)]\tTrain Loss: 17.597702\tTest Loss: 17.728618\n",
      "11/18 11:23:28 Train Epoch:   88 [49262/49262 (100%)]\tTrain Loss: 17.598470\tTest Loss: 17.724094\n",
      "11/18 11:23:32 Train Epoch:   89 [49262/49262 (100%)]\tTrain Loss: 17.598369\tTest Loss: 17.725904\n",
      "11/18 11:23:36 Train Epoch:   90 [49262/49262 (100%)]\tTrain Loss: 17.597606\tTest Loss: 17.721266\n",
      "11/18 11:23:40 Train Epoch:   91 [49262/49262 (100%)]\tTrain Loss: 17.597982\tTest Loss: 17.728157\n",
      "11/18 11:23:44 Train Epoch:   92 [49262/49262 (100%)]\tTrain Loss: 17.597567\tTest Loss: 17.724795\n",
      "11/18 11:23:48 Train Epoch:   93 [49262/49262 (100%)]\tTrain Loss: 17.597385\tTest Loss: 17.723799\n",
      "11/18 11:23:52 Train Epoch:   94 [49262/49262 (100%)]\tTrain Loss: 17.597292\tTest Loss: 17.723998\n",
      "11/18 11:23:56 Train Epoch:   95 [49262/49262 (100%)]\tTrain Loss: 17.597194\tTest Loss: 17.726129\n",
      "11/18 11:24:00 Train Epoch:   96 [49262/49262 (100%)]\tTrain Loss: 17.596881\tTest Loss: 17.724148\n",
      "11/18 11:24:04 Train Epoch:   97 [49262/49262 (100%)]\tTrain Loss: 17.596793\tTest Loss: 17.722807\n",
      "11/18 11:24:08 Train Epoch:   98 [49262/49262 (100%)]\tTrain Loss: 17.596963\tTest Loss: 17.723686\n",
      "11/18 11:24:12 Train Epoch:   99 [49262/49262 (100%)]\tTrain Loss: 17.596926\tTest Loss: 17.725175\n",
      "11/18 11:24:16 Train Epoch:  100 [49262/49262 (100%)]\tTrain Loss: 17.595915\tTest Loss: 17.724405\n",
      "11/18 11:24:20 Train Epoch:  101 [49262/49262 (100%)]\tTrain Loss: 17.596680\tTest Loss: 17.723776\n",
      "11/18 11:24:24 Train Epoch:  102 [49262/49262 (100%)]\tTrain Loss: 17.596085\tTest Loss: 17.725241\n",
      "11/18 11:24:28 Train Epoch:  103 [49262/49262 (100%)]\tTrain Loss: 17.596264\tTest Loss: 17.722457\n",
      "11/18 11:24:32 Train Epoch:  104 [49262/49262 (100%)]\tTrain Loss: 17.595910\tTest Loss: 17.723570\n",
      "11/18 11:24:36 Train Epoch:  105 [49262/49262 (100%)]\tTrain Loss: 17.595921\tTest Loss: 17.722906\n",
      "11/18 11:24:39 Train Epoch:  106 [49262/49262 (100%)]\tTrain Loss: 17.596381\tTest Loss: 17.725361\n",
      "11/18 11:24:43 Train Epoch:  107 [49262/49262 (100%)]\tTrain Loss: 17.595542\tTest Loss: 17.723465\n",
      "11/18 11:24:47 Train Epoch:  108 [49262/49262 (100%)]\tTrain Loss: 17.595899\tTest Loss: 17.720160\n",
      "11/18 11:24:51 Train Epoch:  109 [49262/49262 (100%)]\tTrain Loss: 17.594818\tTest Loss: 17.725705\n",
      "11/18 11:24:55 Train Epoch:  110 [49262/49262 (100%)]\tTrain Loss: 17.595267\tTest Loss: 17.724480\n",
      "11/18 11:24:59 Train Epoch:  111 [49262/49262 (100%)]\tTrain Loss: 17.595080\tTest Loss: 17.724250\n",
      "11/18 11:25:03 Train Epoch:  112 [49262/49262 (100%)]\tTrain Loss: 17.594789\tTest Loss: 17.721227\n",
      "11/18 11:25:07 Train Epoch:  113 [49262/49262 (100%)]\tTrain Loss: 17.595232\tTest Loss: 17.722486\n",
      "11/18 11:25:11 Train Epoch:  114 [49262/49262 (100%)]\tTrain Loss: 17.595284\tTest Loss: 17.720662\n",
      "11/18 11:25:15 Train Epoch:  115 [49262/49262 (100%)]\tTrain Loss: 17.594872\tTest Loss: 17.722009\n",
      "11/18 11:25:19 Train Epoch:  116 [49262/49262 (100%)]\tTrain Loss: 17.594892\tTest Loss: 17.720026\n",
      "11/18 11:25:23 Train Epoch:  117 [49262/49262 (100%)]\tTrain Loss: 17.594770\tTest Loss: 17.721933\n",
      "11/18 11:25:27 Train Epoch:  118 [49262/49262 (100%)]\tTrain Loss: 17.595533\tTest Loss: 17.721939\n",
      "11/18 11:25:31 Train Epoch:  119 [49262/49262 (100%)]\tTrain Loss: 17.594932\tTest Loss: 17.724282\n",
      "11/18 11:25:35 Train Epoch:  120 [49262/49262 (100%)]\tTrain Loss: 17.594514\tTest Loss: 17.722493\n",
      "11/18 11:25:39 Train Epoch:  121 [49262/49262 (100%)]\tTrain Loss: 17.594398\tTest Loss: 17.722406\n",
      "11/18 11:25:43 Train Epoch:  122 [49262/49262 (100%)]\tTrain Loss: 17.594235\tTest Loss: 17.725512\n",
      "11/18 11:25:47 Train Epoch:  123 [49262/49262 (100%)]\tTrain Loss: 17.594141\tTest Loss: 17.723052\n",
      "11/18 11:25:51 Train Epoch:  124 [49262/49262 (100%)]\tTrain Loss: 17.594058\tTest Loss: 17.719658\n",
      "11/18 11:25:55 Train Epoch:  125 [49262/49262 (100%)]\tTrain Loss: 17.593685\tTest Loss: 17.721183\n",
      "11/18 11:25:59 Train Epoch:  126 [49262/49262 (100%)]\tTrain Loss: 17.593730\tTest Loss: 17.721686\n",
      "11/18 11:26:03 Train Epoch:  127 [49262/49262 (100%)]\tTrain Loss: 17.594009\tTest Loss: 17.724656\n",
      "11/18 11:26:07 Train Epoch:  128 [49262/49262 (100%)]\tTrain Loss: 17.593912\tTest Loss: 17.723573\n",
      "11/18 11:26:10 Train Epoch:  129 [49262/49262 (100%)]\tTrain Loss: 17.594107\tTest Loss: 17.724366\n",
      "11/18 11:26:14 Train Epoch:  130 [49262/49262 (100%)]\tTrain Loss: 17.593121\tTest Loss: 17.721745\n",
      "11/18 11:26:18 Train Epoch:  131 [49262/49262 (100%)]\tTrain Loss: 17.593357\tTest Loss: 17.719241\n",
      "11/18 11:26:22 Train Epoch:  132 [49262/49262 (100%)]\tTrain Loss: 17.594143\tTest Loss: 17.720979\n",
      "11/18 11:26:26 Train Epoch:  133 [49262/49262 (100%)]\tTrain Loss: 17.593102\tTest Loss: 17.722489\n",
      "11/18 11:26:30 Train Epoch:  134 [49262/49262 (100%)]\tTrain Loss: 17.594035\tTest Loss: 17.722739\n",
      "11/18 11:26:34 Train Epoch:  135 [49262/49262 (100%)]\tTrain Loss: 17.593587\tTest Loss: 17.723041\n",
      "11/18 11:26:38 Train Epoch:  136 [49262/49262 (100%)]\tTrain Loss: 17.593298\tTest Loss: 17.721291\n",
      "11/18 11:26:42 Train Epoch:  137 [49262/49262 (100%)]\tTrain Loss: 17.592893\tTest Loss: 17.720647\n",
      "11/18 11:26:46 Train Epoch:  138 [49262/49262 (100%)]\tTrain Loss: 17.592515\tTest Loss: 17.721984\n",
      "11/18 11:26:50 Train Epoch:  139 [49262/49262 (100%)]\tTrain Loss: 17.592718\tTest Loss: 17.721574\n",
      "11/18 11:26:54 Train Epoch:  140 [49262/49262 (100%)]\tTrain Loss: 17.592087\tTest Loss: 17.721647\n",
      "11/18 11:26:58 Train Epoch:  141 [49262/49262 (100%)]\tTrain Loss: 17.593198\tTest Loss: 17.722937\n",
      "11/18 11:27:02 Train Epoch:  142 [49262/49262 (100%)]\tTrain Loss: 17.592741\tTest Loss: 17.720475\n",
      "11/18 11:27:07 Train Epoch:  143 [49262/49262 (100%)]\tTrain Loss: 17.593168\tTest Loss: 17.724614\n",
      "11/18 11:27:11 Train Epoch:  144 [49262/49262 (100%)]\tTrain Loss: 17.593154\tTest Loss: 17.725557\n",
      "11/18 11:27:15 Train Epoch:  145 [49262/49262 (100%)]\tTrain Loss: 17.593294\tTest Loss: 17.720289\n",
      "11/18 11:27:20 Train Epoch:  146 [49262/49262 (100%)]\tTrain Loss: 17.592447\tTest Loss: 17.722648\n",
      "11/18 11:27:24 Train Epoch:  147 [49262/49262 (100%)]\tTrain Loss: 17.592605\tTest Loss: 17.721819\n",
      "11/18 11:27:28 Train Epoch:  148 [49262/49262 (100%)]\tTrain Loss: 17.592180\tTest Loss: 17.719870\n",
      "11/18 11:27:33 Train Epoch:  149 [49262/49262 (100%)]\tTrain Loss: 17.592023\tTest Loss: 17.722262\n",
      "11/18 11:27:37 Train Epoch:  150 [49262/49262 (100%)]\tTrain Loss: 17.592812\tTest Loss: 17.720353\n",
      "11/18 11:27:41 Train Epoch:  151 [49262/49262 (100%)]\tTrain Loss: 17.591881\tTest Loss: 17.719806\n",
      "11/18 11:27:46 Train Epoch:  152 [49262/49262 (100%)]\tTrain Loss: 17.591604\tTest Loss: 17.721643\n",
      "11/18 11:27:50 Train Epoch:  153 [49262/49262 (100%)]\tTrain Loss: 17.591807\tTest Loss: 17.719931\n",
      "11/18 11:27:54 Train Epoch:  154 [49262/49262 (100%)]\tTrain Loss: 17.591769\tTest Loss: 17.721378\n",
      "11/18 11:27:59 Train Epoch:  155 [49262/49262 (100%)]\tTrain Loss: 17.592308\tTest Loss: 17.723101\n",
      "11/18 11:28:03 Train Epoch:  156 [49262/49262 (100%)]\tTrain Loss: 17.592144\tTest Loss: 17.718774\n",
      "11/18 11:28:07 Train Epoch:  157 [49262/49262 (100%)]\tTrain Loss: 17.591891\tTest Loss: 17.720877\n",
      "11/18 11:28:12 Train Epoch:  158 [49262/49262 (100%)]\tTrain Loss: 17.592138\tTest Loss: 17.719430\n",
      "11/18 11:28:16 Train Epoch:  159 [49262/49262 (100%)]\tTrain Loss: 17.591585\tTest Loss: 17.721155\n",
      "11/18 11:28:20 Train Epoch:  160 [49262/49262 (100%)]\tTrain Loss: 17.591251\tTest Loss: 17.721835\n",
      "11/18 11:28:25 Train Epoch:  161 [49262/49262 (100%)]\tTrain Loss: 17.592326\tTest Loss: 17.722139\n",
      "11/18 11:28:29 Train Epoch:  162 [49262/49262 (100%)]\tTrain Loss: 17.591709\tTest Loss: 17.721479\n",
      "11/18 11:28:33 Train Epoch:  163 [49262/49262 (100%)]\tTrain Loss: 17.592473\tTest Loss: 17.722359\n",
      "11/18 11:28:37 Train Epoch:  164 [49262/49262 (100%)]\tTrain Loss: 17.590959\tTest Loss: 17.719186\n",
      "11/18 11:28:42 Train Epoch:  165 [49262/49262 (100%)]\tTrain Loss: 17.590855\tTest Loss: 17.719640\n",
      "11/18 11:28:46 Train Epoch:  166 [49262/49262 (100%)]\tTrain Loss: 17.591182\tTest Loss: 17.719039\n",
      "11/18 11:28:50 Train Epoch:  167 [49262/49262 (100%)]\tTrain Loss: 17.591616\tTest Loss: 17.721946\n",
      "11/18 11:28:55 Train Epoch:  168 [49262/49262 (100%)]\tTrain Loss: 17.591812\tTest Loss: 17.718922\n",
      "11/18 11:28:59 Train Epoch:  169 [49262/49262 (100%)]\tTrain Loss: 17.591195\tTest Loss: 17.720989\n",
      "11/18 11:29:03 Train Epoch:  170 [49262/49262 (100%)]\tTrain Loss: 17.591568\tTest Loss: 17.721851\n",
      "11/18 11:29:08 Train Epoch:  171 [49262/49262 (100%)]\tTrain Loss: 17.591076\tTest Loss: 17.721398\n",
      "11/18 11:29:12 Train Epoch:  172 [49262/49262 (100%)]\tTrain Loss: 17.591213\tTest Loss: 17.719236\n",
      "11/18 11:29:16 Train Epoch:  173 [49262/49262 (100%)]\tTrain Loss: 17.590801\tTest Loss: 17.720222\n",
      "11/18 11:29:21 Train Epoch:  174 [49262/49262 (100%)]\tTrain Loss: 17.591200\tTest Loss: 17.720279\n",
      "11/18 11:29:25 Train Epoch:  175 [49262/49262 (100%)]\tTrain Loss: 17.590471\tTest Loss: 17.720586\n",
      "11/18 11:29:29 Train Epoch:  176 [49262/49262 (100%)]\tTrain Loss: 17.591040\tTest Loss: 17.720338\n",
      "11/18 11:29:34 Train Epoch:  177 [49262/49262 (100%)]\tTrain Loss: 17.590725\tTest Loss: 17.720184\n",
      "11/18 11:29:38 Train Epoch:  178 [49262/49262 (100%)]\tTrain Loss: 17.590791\tTest Loss: 17.722094\n",
      "11/18 11:29:42 Train Epoch:  179 [49262/49262 (100%)]\tTrain Loss: 17.590961\tTest Loss: 17.719775\n",
      "11/18 11:29:47 Train Epoch:  180 [49262/49262 (100%)]\tTrain Loss: 17.591026\tTest Loss: 17.721587\n",
      "11/18 11:29:51 Train Epoch:  181 [49262/49262 (100%)]\tTrain Loss: 17.590954\tTest Loss: 17.720052\n",
      "11/18 11:29:55 Train Epoch:  182 [49262/49262 (100%)]\tTrain Loss: 17.590154\tTest Loss: 17.720117\n",
      "11/18 11:30:00 Train Epoch:  183 [49262/49262 (100%)]\tTrain Loss: 17.590415\tTest Loss: 17.719449\n",
      "11/18 11:30:04 Train Epoch:  184 [49262/49262 (100%)]\tTrain Loss: 17.590779\tTest Loss: 17.720409\n",
      "11/18 11:30:08 Train Epoch:  185 [49262/49262 (100%)]\tTrain Loss: 17.590815\tTest Loss: 17.720853\n",
      "11/18 11:30:13 Train Epoch:  186 [49262/49262 (100%)]\tTrain Loss: 17.591113\tTest Loss: 17.720581\n",
      "11/18 11:30:17 Train Epoch:  187 [49262/49262 (100%)]\tTrain Loss: 17.590488\tTest Loss: 17.719996\n",
      "11/18 11:30:21 Train Epoch:  188 [49262/49262 (100%)]\tTrain Loss: 17.590315\tTest Loss: 17.719046\n",
      "11/18 11:30:26 Train Epoch:  189 [49262/49262 (100%)]\tTrain Loss: 17.589739\tTest Loss: 17.718441\n",
      "11/18 11:30:30 Train Epoch:  190 [49262/49262 (100%)]\tTrain Loss: 17.590585\tTest Loss: 17.719759\n",
      "11/18 11:30:35 Train Epoch:  191 [49262/49262 (100%)]\tTrain Loss: 17.589886\tTest Loss: 17.717749\n",
      "11/18 11:30:39 Train Epoch:  192 [49262/49262 (100%)]\tTrain Loss: 17.590495\tTest Loss: 17.721178\n",
      "11/18 11:30:43 Train Epoch:  193 [49262/49262 (100%)]\tTrain Loss: 17.590267\tTest Loss: 17.720173\n",
      "11/18 11:30:47 Train Epoch:  194 [49262/49262 (100%)]\tTrain Loss: 17.589960\tTest Loss: 17.718941\n",
      "11/18 11:30:52 Train Epoch:  195 [49262/49262 (100%)]\tTrain Loss: 17.590545\tTest Loss: 17.719988\n",
      "11/18 11:30:56 Train Epoch:  196 [49262/49262 (100%)]\tTrain Loss: 17.590035\tTest Loss: 17.720130\n",
      "11/18 11:31:00 Train Epoch:  197 [49262/49262 (100%)]\tTrain Loss: 17.589593\tTest Loss: 17.721614\n",
      "11/18 11:31:05 Train Epoch:  198 [49262/49262 (100%)]\tTrain Loss: 17.589787\tTest Loss: 17.720288\n",
      "11/18 11:31:09 Train Epoch:  199 [49262/49262 (100%)]\tTrain Loss: 17.590131\tTest Loss: 17.719477\n",
      "11/18 11:31:13 Train Epoch:  200 [49262/49262 (100%)]\tTrain Loss: 17.589607\tTest Loss: 17.719053\n"
     ]
    }
   ],
   "source": [
    "# Train the model\n",
    "train_loss, test_loss = train(model, EPOCHS, train_loader, test_loader, optimizer, scheduler, criterion)"
   ]
  },
  {
   "cell_type": "code",
   "execution_count": 14,
   "metadata": {},
   "outputs": [
    {
     "data": {
      "image/png": "[encoded data removed]",
      "text/plain": [
       "<Figure size 640x480 with 1 Axes>"
      ]
     },
     "metadata": {},
     "output_type": "display_data"
    }
   ],
   "source": [
    "# Plot losses\n",
    "plt.plot(range(1, EPOCHS + 1), train_loss, label=\"Train loss\")\n",
    "plt.plot(range(1, EPOCHS + 1), test_loss, label=\"Test loss\")\n",
    "plt.xlabel(\"Epoch\")\n",
    "plt.ylabel(\"Loss\")\n",
    "plt.legend()\n",
    "plt.show()"
   ]
  },
  {
   "cell_type": "code",
   "execution_count": 15,
   "metadata": {},
   "outputs": [
    {
     "name": "stdout",
     "output_type": "stream",
     "text": [
      "Training loss:\t\t17.589607050511745\n",
      "Testing loss:\t\t17.7190531307889\n"
     ]
    }
   ],
   "source": [
    "# Test against validation set\n",
    "# Create a data loader for the training data\n",
    "val_loader = torch.utils.data.DataLoader(val_dataset, batch_size=BATCH_SIZE, shuffle=False)\n",
    "\n",
    "val_loss = test(model, val_loader, criterion)\n",
    "print(f\"Training loss:\\t\\t{train_loss[-1]}\")\n",
    "print(f\"Testing loss:\\t\\t{test_loss[-1]}\")\n",
    "# print(f\"Validation loss:\\t{val_loss}\")"
   ]
  },
  {
   "cell_type": "code",
   "execution_count": 16,
   "metadata": {},
   "outputs": [],
   "source": [
    "# New model\n",
    "model_name = f\"{datetime.now().strftime('%y%m%d%H%M%S')}_model_E{EPOCHS}_B{BATCH_SIZE}_LR{LR}_GAMMA{GAMMA}_TRAIN{train_loss[-1]:.4f}_TEST{test_loss[-1]:.4f}.pth\"\n",
    "\n",
    "# Old model\n",
    "# model_name = \"241114201016_model_E000_B000_LR0.00_GAMMA0.00_TRAIN_0.0000_TEST0.0000\""
   ]
  },
  {
   "cell_type": "code",
   "execution_count": 17,
   "metadata": {},
   "outputs": [
    {
     "name": "stdout",
     "output_type": "stream",
     "text": [
      "Model saved as 241118113139_model_E200_B64_LR0.001_GAMMA0.99_TRAIN17.5896_TEST17.7191.pth\n"
     ]
    }
   ],
   "source": [
    "# Save the model\n",
    "torch.save(model.state_dict(), \"models/cross_entropy/\" + model_name)\n",
    "print(f\"Model saved as {model_name}\")"
   ]
  },
  {
   "cell_type": "code",
   "execution_count": 18,
   "metadata": {},
   "outputs": [
    {
     "name": "stderr",
     "output_type": "stream",
     "text": [
      "C:\\Users\\ethan\\AppData\\Local\\Temp\\ipykernel_1330976\\602961557.py:3: FutureWarning: You are using `torch.load` with `weights_only=False` (the current default value), which uses the default pickle module implicitly. It is possible to construct malicious pickle data which will execute arbitrary code during unpickling (See https://github.com/pytorch/pytorch/blob/main/SECURITY.md#untrusted-models for more details). In a future release, the default value for `weights_only` will be flipped to `True`. This limits the functions that could be executed during unpickling. Arbitrary objects will no longer be allowed to be loaded via this mode unless they are explicitly allowlisted by the user via `torch.serialization.add_safe_globals`. We recommend you start setting `weights_only=True` for any use case where you don't have full control of the loaded file. Please open an issue on GitHub for any issues related to this experimental feature.\n",
      "  model.load_state_dict(torch.load(\"models/cross_entropy/\" + model_name))\n"
     ]
    },
    {
     "data": {
      "text/plain": [
       "Model(\n",
       "  (conv1): Conv2d(3, 32, kernel_size=(3, 3), stride=(1, 1), padding=(1, 1))\n",
       "  (conv2): Conv2d(32, 64, kernel_size=(3, 3), stride=(1, 1), padding=(1, 1))\n",
       "  (conv3): Conv2d(64, 128, kernel_size=(3, 3), stride=(1, 1), padding=(1, 1))\n",
       "  (pool): MaxPool2d(kernel_size=2, stride=2, padding=0, dilation=1, ceil_mode=False)\n",
       "  (dropout): Dropout(p=0.5, inplace=False)\n",
       "  (bn1): BatchNorm2d(32, eps=1e-05, momentum=0.1, affine=True, track_running_stats=True)\n",
       "  (bn2): BatchNorm2d(64, eps=1e-05, momentum=0.1, affine=True, track_running_stats=True)\n",
       "  (bn3): BatchNorm2d(128, eps=1e-05, momentum=0.1, affine=True, track_running_stats=True)\n",
       "  (flatten): Flatten(start_dim=1, end_dim=-1)\n",
       "  (fc1): Linear(in_features=8192, out_features=128, bias=True)\n",
       "  (fc2): Linear(in_features=128, out_features=64, bias=True)\n",
       "  (fc3): Linear(in_features=64, out_features=37, bias=True)\n",
       "  (relu): ReLU()\n",
       "  (softmax): Softmax(dim=1)\n",
       ")"
      ]
     },
     "execution_count": 18,
     "metadata": {},
     "output_type": "execute_result"
    }
   ],
   "source": [
    "# Load the model\n",
    "model = Model()\n",
    "model.load_state_dict(torch.load(\"models/cross_entropy/\" + model_name))\n",
    "model.to(DEVICE)"
   ]
  }
 ],
 "metadata": {
  "kernelspec": {
   "display_name": ".venv",
   "language": "python",
   "name": "python3"
  },
  "language_info": {
   "codemirror_mode": {
    "name": "ipython",
    "version": 3
   },
   "file_extension": ".py",
   "mimetype": "text/x-python",
   "name": "python",
   "nbconvert_exporter": "python",
   "pygments_lexer": "ipython3",
   "version": "3.12.7"
  }
 },
 "nbformat": 4,
 "nbformat_minor": 2
}
