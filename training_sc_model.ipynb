{
 "cells": [
  {
   "cell_type": "code",
   "execution_count": 1,
   "metadata": {},
   "outputs": [],
   "source": [
    "from datetime import datetime\n",
    "import os\n",
    "import re\n",
    "\n",
    "import torch\n",
    "import torch.nn as nn\n",
    "import matplotlib.pyplot as plt\n",
    "import numpy as np\n",
    "import pandas as pd\n",
    "from sklearn.model_selection import train_test_split\n",
    "from sklearn.metrics import (\n",
    "    accuracy_score,\n",
    "    precision_score,\n",
    "    recall_score,\n",
    "    f1_score,\n",
    "    confusion_matrix,\n",
    "    ConfusionMatrixDisplay,\n",
    ")\n",
    "\n",
    "from ipynb.fs.defs.functions import image_preprocess, train\n",
    "from models.single_head_single_class.model import SingleHeadSingleClass\n",
    "\n",
    "# Setup rng\n",
    "torch.manual_seed(42)\n",
    "np.random.seed(42)"
   ]
  },
  {
   "cell_type": "code",
   "execution_count": 3,
   "metadata": {},
   "outputs": [
    {
     "name": "stdout",
     "output_type": "stream",
     "text": [
      "Using device: cuda\n"
     ]
    }
   ],
   "source": [
    "# Check cuda is available and if so, set DEVICE to use gpu device\n",
    "DEVICE = torch.device(\"cuda\" if torch.cuda.is_available() else \"cpu\")\n",
    "print(f\"Using device: {DEVICE}\")"
   ]
  },
  {
   "cell_type": "code",
   "execution_count": 4,
   "metadata": {},
   "outputs": [],
   "source": [
    "# Load images and labels\n",
    "data = pd.read_csv(\"data/unzipped/training_solutions_rev1.csv\")"
   ]
  },
  {
   "cell_type": "code",
   "execution_count": 5,
   "metadata": {},
   "outputs": [
    {
     "data": {
      "text/html": [
       "<div>\n",
       "<style scoped>\n",
       "    .dataframe tbody tr th:only-of-type {\n",
       "        vertical-align: middle;\n",
       "    }\n",
       "\n",
       "    .dataframe tbody tr th {\n",
       "        vertical-align: top;\n",
       "    }\n",
       "\n",
       "    .dataframe thead th {\n",
       "        text-align: right;\n",
       "    }\n",
       "</style>\n",
       "<table border=\"1\" class=\"dataframe\">\n",
       "  <thead>\n",
       "    <tr style=\"text-align: right;\">\n",
       "      <th></th>\n",
       "      <th>GalaxyID</th>\n",
       "      <th>Class1.1</th>\n",
       "      <th>Class1.2</th>\n",
       "      <th>Class1.3</th>\n",
       "      <th>Class2.1</th>\n",
       "      <th>Class2.2</th>\n",
       "      <th>Class3.1</th>\n",
       "      <th>Class3.2</th>\n",
       "      <th>Class4.1</th>\n",
       "      <th>Class4.2</th>\n",
       "      <th>...</th>\n",
       "      <th>Class9.3</th>\n",
       "      <th>Class10.1</th>\n",
       "      <th>Class10.2</th>\n",
       "      <th>Class10.3</th>\n",
       "      <th>Class11.1</th>\n",
       "      <th>Class11.2</th>\n",
       "      <th>Class11.3</th>\n",
       "      <th>Class11.4</th>\n",
       "      <th>Class11.5</th>\n",
       "      <th>Class11.6</th>\n",
       "    </tr>\n",
       "  </thead>\n",
       "  <tbody>\n",
       "    <tr>\n",
       "      <th>0</th>\n",
       "      <td>100008</td>\n",
       "      <td>0.383147</td>\n",
       "      <td>0.616853</td>\n",
       "      <td>0.000000</td>\n",
       "      <td>0.000000</td>\n",
       "      <td>0.616853</td>\n",
       "      <td>0.038452</td>\n",
       "      <td>0.578401</td>\n",
       "      <td>0.418398</td>\n",
       "      <td>0.198455</td>\n",
       "      <td>...</td>\n",
       "      <td>0.000000</td>\n",
       "      <td>0.279952</td>\n",
       "      <td>0.138445</td>\n",
       "      <td>0.000000</td>\n",
       "      <td>0.000000</td>\n",
       "      <td>0.092886</td>\n",
       "      <td>0.0</td>\n",
       "      <td>0.0</td>\n",
       "      <td>0.0</td>\n",
       "      <td>0.325512</td>\n",
       "    </tr>\n",
       "    <tr>\n",
       "      <th>1</th>\n",
       "      <td>100023</td>\n",
       "      <td>0.327001</td>\n",
       "      <td>0.663777</td>\n",
       "      <td>0.009222</td>\n",
       "      <td>0.031178</td>\n",
       "      <td>0.632599</td>\n",
       "      <td>0.467370</td>\n",
       "      <td>0.165229</td>\n",
       "      <td>0.591328</td>\n",
       "      <td>0.041271</td>\n",
       "      <td>...</td>\n",
       "      <td>0.018764</td>\n",
       "      <td>0.000000</td>\n",
       "      <td>0.131378</td>\n",
       "      <td>0.459950</td>\n",
       "      <td>0.000000</td>\n",
       "      <td>0.591328</td>\n",
       "      <td>0.0</td>\n",
       "      <td>0.0</td>\n",
       "      <td>0.0</td>\n",
       "      <td>0.000000</td>\n",
       "    </tr>\n",
       "    <tr>\n",
       "      <th>2</th>\n",
       "      <td>100053</td>\n",
       "      <td>0.765717</td>\n",
       "      <td>0.177352</td>\n",
       "      <td>0.056931</td>\n",
       "      <td>0.000000</td>\n",
       "      <td>0.177352</td>\n",
       "      <td>0.000000</td>\n",
       "      <td>0.177352</td>\n",
       "      <td>0.000000</td>\n",
       "      <td>0.177352</td>\n",
       "      <td>...</td>\n",
       "      <td>0.000000</td>\n",
       "      <td>0.000000</td>\n",
       "      <td>0.000000</td>\n",
       "      <td>0.000000</td>\n",
       "      <td>0.000000</td>\n",
       "      <td>0.000000</td>\n",
       "      <td>0.0</td>\n",
       "      <td>0.0</td>\n",
       "      <td>0.0</td>\n",
       "      <td>0.000000</td>\n",
       "    </tr>\n",
       "    <tr>\n",
       "      <th>3</th>\n",
       "      <td>100078</td>\n",
       "      <td>0.693377</td>\n",
       "      <td>0.238564</td>\n",
       "      <td>0.068059</td>\n",
       "      <td>0.000000</td>\n",
       "      <td>0.238564</td>\n",
       "      <td>0.109493</td>\n",
       "      <td>0.129071</td>\n",
       "      <td>0.189098</td>\n",
       "      <td>0.049466</td>\n",
       "      <td>...</td>\n",
       "      <td>0.000000</td>\n",
       "      <td>0.094549</td>\n",
       "      <td>0.000000</td>\n",
       "      <td>0.094549</td>\n",
       "      <td>0.189098</td>\n",
       "      <td>0.000000</td>\n",
       "      <td>0.0</td>\n",
       "      <td>0.0</td>\n",
       "      <td>0.0</td>\n",
       "      <td>0.000000</td>\n",
       "    </tr>\n",
       "    <tr>\n",
       "      <th>4</th>\n",
       "      <td>100090</td>\n",
       "      <td>0.933839</td>\n",
       "      <td>0.000000</td>\n",
       "      <td>0.066161</td>\n",
       "      <td>0.000000</td>\n",
       "      <td>0.000000</td>\n",
       "      <td>0.000000</td>\n",
       "      <td>0.000000</td>\n",
       "      <td>0.000000</td>\n",
       "      <td>0.000000</td>\n",
       "      <td>...</td>\n",
       "      <td>0.000000</td>\n",
       "      <td>0.000000</td>\n",
       "      <td>0.000000</td>\n",
       "      <td>0.000000</td>\n",
       "      <td>0.000000</td>\n",
       "      <td>0.000000</td>\n",
       "      <td>0.0</td>\n",
       "      <td>0.0</td>\n",
       "      <td>0.0</td>\n",
       "      <td>0.000000</td>\n",
       "    </tr>\n",
       "  </tbody>\n",
       "</table>\n",
       "<p>5 rows × 38 columns</p>\n",
       "</div>"
      ],
      "text/plain": [
       "   GalaxyID  Class1.1  Class1.2  Class1.3  Class2.1  Class2.2  Class3.1  \\\n",
       "0    100008  0.383147  0.616853  0.000000  0.000000  0.616853  0.038452   \n",
       "1    100023  0.327001  0.663777  0.009222  0.031178  0.632599  0.467370   \n",
       "2    100053  0.765717  0.177352  0.056931  0.000000  0.177352  0.000000   \n",
       "3    100078  0.693377  0.238564  0.068059  0.000000  0.238564  0.109493   \n",
       "4    100090  0.933839  0.000000  0.066161  0.000000  0.000000  0.000000   \n",
       "\n",
       "   Class3.2  Class4.1  Class4.2  ...  Class9.3  Class10.1  Class10.2  \\\n",
       "0  0.578401  0.418398  0.198455  ...  0.000000   0.279952   0.138445   \n",
       "1  0.165229  0.591328  0.041271  ...  0.018764   0.000000   0.131378   \n",
       "2  0.177352  0.000000  0.177352  ...  0.000000   0.000000   0.000000   \n",
       "3  0.129071  0.189098  0.049466  ...  0.000000   0.094549   0.000000   \n",
       "4  0.000000  0.000000  0.000000  ...  0.000000   0.000000   0.000000   \n",
       "\n",
       "   Class10.3  Class11.1  Class11.2  Class11.3  Class11.4  Class11.5  Class11.6  \n",
       "0   0.000000   0.000000   0.092886        0.0        0.0        0.0   0.325512  \n",
       "1   0.459950   0.000000   0.591328        0.0        0.0        0.0   0.000000  \n",
       "2   0.000000   0.000000   0.000000        0.0        0.0        0.0   0.000000  \n",
       "3   0.094549   0.189098   0.000000        0.0        0.0        0.0   0.000000  \n",
       "4   0.000000   0.000000   0.000000        0.0        0.0        0.0   0.000000  \n",
       "\n",
       "[5 rows x 38 columns]"
      ]
     },
     "execution_count": 5,
     "metadata": {},
     "output_type": "execute_result"
    }
   ],
   "source": [
    "data.head()"
   ]
  },
  {
   "cell_type": "code",
   "execution_count": 6,
   "metadata": {},
   "outputs": [],
   "source": [
    "def label_preprocess(data: pd.Series):\n",
    "    return np.array([data.iloc[1:4].to_numpy()]).astype(np.float32)"
   ]
  },
  {
   "cell_type": "code",
   "execution_count": 7,
   "metadata": {},
   "outputs": [],
   "source": [
    "def prep_data(data: pd.DataFrame, test_size: float = 0.2, val_size: float = 0.5, number_of_galaxies: int = None):\n",
    "    # Handle number of galaxies\n",
    "    number_of_galaxies = len(data) if number_of_galaxies is None else number_of_galaxies\n",
    "\n",
    "    def make_dataset(data: pd.DataFrame):\n",
    "        labels = data.apply(lambda x: label_preprocess(x), axis=1)\n",
    "        images = data[\"GalaxyID\"].apply(lambda x: image_preprocess(x))\n",
    "\n",
    "        input_data = torch.Tensor(np.stack(images.to_numpy())).permute(0, 3, 1, 2).to(DEVICE)\n",
    "        output_data = torch.Tensor(np.stack(labels.to_numpy())).squeeze(1).to(DEVICE)\n",
    "\n",
    "        dataset = torch.utils.data.TensorDataset(input_data, output_data)\n",
    "        return dataset\n",
    "\n",
    "    # Split data into train and test\n",
    "    train_data, test_data = train_test_split(data.sample(number_of_galaxies), test_size=test_size)\n",
    "    test_data, val_data = train_test_split(test_data, test_size=val_size)\n",
    "\n",
    "    # Create training dataset\n",
    "    train_dataset = make_dataset(train_data)\n",
    "\n",
    "    # Create testing dataset\n",
    "    test_dataset = make_dataset(test_data)\n",
    "\n",
    "    # Create validation dataset\n",
    "    val_dataset = make_dataset(val_data)\n",
    "\n",
    "    return train_dataset, test_dataset, val_dataset"
   ]
  },
  {
   "cell_type": "code",
   "execution_count": 8,
   "metadata": {},
   "outputs": [],
   "source": [
    "# Create train, test, and validation sets\n",
    "train_dataset, test_dataset, val_dataset = prep_data(data)"
   ]
  },
  {
   "cell_type": "code",
   "execution_count": 9,
   "metadata": {},
   "outputs": [
    {
     "name": "stdout",
     "output_type": "stream",
     "text": [
      "Training input shape: torch.Size([49262, 3, 64, 64])\n",
      "Training output shape: torch.Size([49262, 3])\n"
     ]
    }
   ],
   "source": [
    "print(\n",
    "    f\"Training input shape: {train_dataset.tensors[0].shape}\\nTraining output shape: {train_dataset.tensors[1].shape}\"\n",
    ")"
   ]
  },
  {
   "cell_type": "markdown",
   "metadata": {},
   "source": [
    "## Training"
   ]
  },
  {
   "cell_type": "code",
   "execution_count": 47,
   "metadata": {},
   "outputs": [],
   "source": [
    "# Instantiate the model\n",
    "model = SingleHeadSingleClass().to(DEVICE)"
   ]
  },
  {
   "cell_type": "code",
   "execution_count": 48,
   "metadata": {},
   "outputs": [],
   "source": [
    "# Training Parameters\n",
    "EPOCHS = 200\n",
    "BATCH_SIZE = 64\n",
    "LR = 0.001\n",
    "GAMMA = 0.99\n",
    "\n",
    "# Create a loss function and optimizer\n",
    "criterion = nn.CrossEntropyLoss()  # Competition requested MSE loss\n",
    "optimizer = torch.optim.Adam(model.parameters(), lr=LR, betas=(0.9, 0.999))\n",
    "scheduler = torch.optim.lr_scheduler.ExponentialLR(optimizer, gamma=GAMMA)\n",
    "\n",
    "# Save path\n",
    "model_name = \"model\"\n",
    "save_path = \"models/\" + re.sub(r\"(?<!^)(?=[A-Z])\", \"_\", model.__class__.__name__).lower() + \"/saved/\""
   ]
  },
  {
   "cell_type": "code",
   "execution_count": 49,
   "metadata": {},
   "outputs": [
    {
     "name": "stdout",
     "output_type": "stream",
     "text": [
      "Save path: models/single_head_single_class/saved/\n"
     ]
    }
   ],
   "source": [
    "print(f\"Save path: {save_path}\")"
   ]
  },
  {
   "cell_type": "code",
   "execution_count": 50,
   "metadata": {},
   "outputs": [
    {
     "name": "stdout",
     "output_type": "stream",
     "text": [
      "Model output shape: torch.Size([1, 3])\n"
     ]
    }
   ],
   "source": [
    "# Run a single image through the model\n",
    "model_output = model(train_dataset.tensors[0][0].unsqueeze(0))\n",
    "print(f\"Model output shape: {model_output.shape}\")"
   ]
  },
  {
   "cell_type": "code",
   "execution_count": 51,
   "metadata": {},
   "outputs": [],
   "source": [
    "# Create a data loader for the training data\n",
    "train_loader = torch.utils.data.DataLoader(train_dataset, batch_size=BATCH_SIZE, shuffle=True)\n",
    "\n",
    "# Create a data loader for the test data\n",
    "test_loader = torch.utils.data.DataLoader(test_dataset, batch_size=BATCH_SIZE, shuffle=False)"
   ]
  },
  {
   "cell_type": "code",
   "execution_count": 52,
   "metadata": {},
   "outputs": [
    {
     "name": "stdout",
     "output_type": "stream",
     "text": [
      "11/25 11:06:50 Train Epoch:    1 [49262/49262 (100%)]\tTrain Loss: 0.883187\tTest Loss: 0.867963\n",
      "11/25 11:06:54 Train Epoch:    2 [49262/49262 (100%)]\tTrain Loss: 0.868663\tTest Loss: 0.861096\n",
      "11/25 11:06:58 Train Epoch:    3 [49262/49262 (100%)]\tTrain Loss: 0.863878\tTest Loss: 0.869716\n",
      "11/25 11:07:02 Train Epoch:    4 [49262/49262 (100%)]\tTrain Loss: 0.860692\tTest Loss: 0.853325\n",
      "11/25 11:07:06 Train Epoch:    5 [49262/49262 (100%)]\tTrain Loss: 0.858542\tTest Loss: 0.859404\n",
      "11/25 11:07:10 Train Epoch:    6 [49262/49262 (100%)]\tTrain Loss: 0.855784\tTest Loss: 0.861395\n",
      "11/25 11:07:14 Train Epoch:    7 [49262/49262 (100%)]\tTrain Loss: 0.853109\tTest Loss: 0.845439\n",
      "11/25 11:07:18 Train Epoch:    8 [49262/49262 (100%)]\tTrain Loss: 0.851182\tTest Loss: 0.854714\n",
      "11/25 11:07:22 Train Epoch:    9 [49262/49262 (100%)]\tTrain Loss: 0.849272\tTest Loss: 0.847545\n",
      "11/25 11:07:26 Train Epoch:   10 [49262/49262 (100%)]\tTrain Loss: 0.847528\tTest Loss: 0.853486\n",
      "11/25 11:07:30 Train Epoch:   11 [49262/49262 (100%)]\tTrain Loss: 0.846282\tTest Loss: 0.860718\n",
      "11/25 11:07:34 Train Epoch:   12 [49262/49262 (100%)]\tTrain Loss: 0.845253\tTest Loss: 0.866424\n",
      "11/25 11:07:37 Train Epoch:   13 [49262/49262 (100%)]\tTrain Loss: 0.844180\tTest Loss: 0.856470\n",
      "11/25 11:07:41 Train Epoch:   14 [49262/49262 (100%)]\tTrain Loss: 0.843242\tTest Loss: 0.852836\n",
      "11/25 11:07:45 Train Epoch:   15 [49262/49262 (100%)]\tTrain Loss: 0.843062\tTest Loss: 0.861952\n",
      "11/25 11:07:49 Train Epoch:   16 [49262/49262 (100%)]\tTrain Loss: 0.841596\tTest Loss: 0.865874\n",
      "11/25 11:07:53 Train Epoch:   17 [49262/49262 (100%)]\tTrain Loss: 0.841702\tTest Loss: 0.848519\n",
      "11/25 11:07:57 Train Epoch:   18 [49262/49262 (100%)]\tTrain Loss: 0.840877\tTest Loss: 0.846422\n",
      "11/25 11:08:01 Train Epoch:   19 [49262/49262 (100%)]\tTrain Loss: 0.840063\tTest Loss: 0.844601\n",
      "11/25 11:08:05 Train Epoch:   20 [49262/49262 (100%)]\tTrain Loss: 0.840523\tTest Loss: 0.849348\n",
      "11/25 11:08:09 Train Epoch:   21 [49262/49262 (100%)]\tTrain Loss: 0.839436\tTest Loss: 0.870474\n",
      "11/25 11:08:13 Train Epoch:   22 [49262/49262 (100%)]\tTrain Loss: 0.839495\tTest Loss: 0.845913\n",
      "11/25 11:08:17 Train Epoch:   23 [49262/49262 (100%)]\tTrain Loss: 0.838547\tTest Loss: 0.863116\n",
      "11/25 11:08:21 Train Epoch:   24 [49262/49262 (100%)]\tTrain Loss: 0.838251\tTest Loss: 0.854306\n",
      "11/25 11:08:25 Train Epoch:   25 [49262/49262 (100%)]\tTrain Loss: 0.838009\tTest Loss: 0.855268\n",
      "11/25 11:08:29 Train Epoch:   26 [49262/49262 (100%)]\tTrain Loss: 0.838031\tTest Loss: 0.852841\n",
      "11/25 11:08:33 Train Epoch:   27 [49262/49262 (100%)]\tTrain Loss: 0.837150\tTest Loss: 0.853990\n",
      "11/25 11:08:37 Train Epoch:   28 [49262/49262 (100%)]\tTrain Loss: 0.836306\tTest Loss: 0.852710\n",
      "11/25 11:08:41 Train Epoch:   29 [49262/49262 (100%)]\tTrain Loss: 0.836668\tTest Loss: 0.848010\n",
      "11/25 11:08:45 Train Epoch:   30 [49262/49262 (100%)]\tTrain Loss: 0.836386\tTest Loss: 0.844787\n",
      "11/25 11:08:49 Train Epoch:   31 [49262/49262 (100%)]\tTrain Loss: 0.836287\tTest Loss: 0.862117\n",
      "11/25 11:08:53 Train Epoch:   32 [49262/49262 (100%)]\tTrain Loss: 0.836106\tTest Loss: 0.845830\n",
      "11/25 11:08:57 Train Epoch:   33 [49262/49262 (100%)]\tTrain Loss: 0.835356\tTest Loss: 0.852266\n",
      "11/25 11:09:01 Train Epoch:   34 [49262/49262 (100%)]\tTrain Loss: 0.835307\tTest Loss: 0.848043\n",
      "11/25 11:09:05 Train Epoch:   35 [49262/49262 (100%)]\tTrain Loss: 0.835125\tTest Loss: 0.847842\n",
      "11/25 11:09:09 Train Epoch:   36 [49262/49262 (100%)]\tTrain Loss: 0.834623\tTest Loss: 0.858629\n",
      "11/25 11:09:13 Train Epoch:   37 [49262/49262 (100%)]\tTrain Loss: 0.834393\tTest Loss: 0.851618\n",
      "11/25 11:09:17 Train Epoch:   38 [49262/49262 (100%)]\tTrain Loss: 0.834480\tTest Loss: 0.842242\n",
      "11/25 11:09:21 Train Epoch:   39 [49262/49262 (100%)]\tTrain Loss: 0.833752\tTest Loss: 0.845894\n",
      "11/25 11:09:25 Train Epoch:   40 [49262/49262 (100%)]\tTrain Loss: 0.833726\tTest Loss: 0.857474\n",
      "11/25 11:09:29 Train Epoch:   41 [49262/49262 (100%)]\tTrain Loss: 0.833541\tTest Loss: 0.838727\n",
      "11/25 11:09:33 Train Epoch:   42 [49262/49262 (100%)]\tTrain Loss: 0.833242\tTest Loss: 0.849891\n",
      "11/25 11:09:37 Train Epoch:   43 [49262/49262 (100%)]\tTrain Loss: 0.833466\tTest Loss: 0.838849\n",
      "11/25 11:09:41 Train Epoch:   44 [49262/49262 (100%)]\tTrain Loss: 0.833306\tTest Loss: 0.848046\n",
      "11/25 11:09:45 Train Epoch:   45 [49262/49262 (100%)]\tTrain Loss: 0.832583\tTest Loss: 0.844521\n",
      "11/25 11:09:49 Train Epoch:   46 [49262/49262 (100%)]\tTrain Loss: 0.832672\tTest Loss: 0.846308\n",
      "11/25 11:09:53 Train Epoch:   47 [49262/49262 (100%)]\tTrain Loss: 0.832752\tTest Loss: 0.845852\n",
      "11/25 11:09:57 Train Epoch:   48 [49262/49262 (100%)]\tTrain Loss: 0.832473\tTest Loss: 0.848292\n",
      "11/25 11:10:01 Train Epoch:   49 [49262/49262 (100%)]\tTrain Loss: 0.832094\tTest Loss: 0.846066\n",
      "11/25 11:10:05 Train Epoch:   50 [49262/49262 (100%)]\tTrain Loss: 0.831720\tTest Loss: 0.850691\n",
      "11/25 11:10:09 Train Epoch:   51 [49262/49262 (100%)]\tTrain Loss: 0.831721\tTest Loss: 0.837796\n",
      "11/25 11:10:13 Train Epoch:   52 [49262/49262 (100%)]\tTrain Loss: 0.831556\tTest Loss: 0.837208\n",
      "11/25 11:10:17 Train Epoch:   53 [49262/49262 (100%)]\tTrain Loss: 0.831668\tTest Loss: 0.842585\n",
      "11/25 11:10:21 Train Epoch:   54 [49262/49262 (100%)]\tTrain Loss: 0.831287\tTest Loss: 0.842578\n",
      "11/25 11:10:25 Train Epoch:   55 [49262/49262 (100%)]\tTrain Loss: 0.831051\tTest Loss: 0.847740\n",
      "11/25 11:10:30 Train Epoch:   56 [49262/49262 (100%)]\tTrain Loss: 0.831026\tTest Loss: 0.841189\n",
      "11/25 11:10:34 Train Epoch:   57 [49262/49262 (100%)]\tTrain Loss: 0.830820\tTest Loss: 0.842498\n",
      "11/25 11:10:38 Train Epoch:   58 [49262/49262 (100%)]\tTrain Loss: 0.830648\tTest Loss: 0.851409\n",
      "11/25 11:10:42 Train Epoch:   59 [49262/49262 (100%)]\tTrain Loss: 0.830521\tTest Loss: 0.838961\n",
      "11/25 11:10:46 Train Epoch:   60 [49262/49262 (100%)]\tTrain Loss: 0.830108\tTest Loss: 0.841964\n",
      "11/25 11:10:50 Train Epoch:   61 [49262/49262 (100%)]\tTrain Loss: 0.830307\tTest Loss: 0.840193\n",
      "11/25 11:10:54 Train Epoch:   62 [49262/49262 (100%)]\tTrain Loss: 0.830277\tTest Loss: 0.845712\n",
      "11/25 11:10:58 Train Epoch:   63 [49262/49262 (100%)]\tTrain Loss: 0.829981\tTest Loss: 0.846219\n",
      "11/25 11:11:02 Train Epoch:   64 [49262/49262 (100%)]\tTrain Loss: 0.829981\tTest Loss: 0.840456\n",
      "11/25 11:11:06 Train Epoch:   65 [49262/49262 (100%)]\tTrain Loss: 0.830027\tTest Loss: 0.839525\n",
      "11/25 11:11:10 Train Epoch:   66 [49262/49262 (100%)]\tTrain Loss: 0.829404\tTest Loss: 0.847464\n",
      "11/25 11:11:14 Train Epoch:   67 [49262/49262 (100%)]\tTrain Loss: 0.829478\tTest Loss: 0.840669\n",
      "11/25 11:11:18 Train Epoch:   68 [49262/49262 (100%)]\tTrain Loss: 0.829464\tTest Loss: 0.838344\n",
      "11/25 11:11:22 Train Epoch:   69 [49262/49262 (100%)]\tTrain Loss: 0.829318\tTest Loss: 0.847952\n",
      "11/25 11:11:26 Train Epoch:   70 [49262/49262 (100%)]\tTrain Loss: 0.829108\tTest Loss: 0.842889\n",
      "11/25 11:11:30 Train Epoch:   71 [49262/49262 (100%)]\tTrain Loss: 0.828722\tTest Loss: 0.846028\n",
      "11/25 11:11:34 Train Epoch:   72 [49262/49262 (100%)]\tTrain Loss: 0.828917\tTest Loss: 0.845510\n",
      "11/25 11:11:38 Train Epoch:   73 [49262/49262 (100%)]\tTrain Loss: 0.828862\tTest Loss: 0.842726\n",
      "11/25 11:11:42 Train Epoch:   74 [49262/49262 (100%)]\tTrain Loss: 0.828600\tTest Loss: 0.841907\n",
      "11/25 11:11:46 Train Epoch:   75 [49262/49262 (100%)]\tTrain Loss: 0.828811\tTest Loss: 0.846068\n",
      "11/25 11:11:50 Train Epoch:   76 [49262/49262 (100%)]\tTrain Loss: 0.828282\tTest Loss: 0.841038\n",
      "11/25 11:11:54 Train Epoch:   77 [49262/49262 (100%)]\tTrain Loss: 0.828628\tTest Loss: 0.841926\n",
      "11/25 11:11:58 Train Epoch:   78 [49262/49262 (100%)]\tTrain Loss: 0.828162\tTest Loss: 0.840147\n",
      "11/25 11:12:02 Train Epoch:   79 [49262/49262 (100%)]\tTrain Loss: 0.828339\tTest Loss: 0.841480\n",
      "11/25 11:12:06 Train Epoch:   80 [49262/49262 (100%)]\tTrain Loss: 0.828209\tTest Loss: 0.847116\n",
      "11/25 11:12:10 Train Epoch:   81 [49262/49262 (100%)]\tTrain Loss: 0.828022\tTest Loss: 0.841713\n",
      "11/25 11:12:14 Train Epoch:   82 [49262/49262 (100%)]\tTrain Loss: 0.827745\tTest Loss: 0.843900\n",
      "11/25 11:12:18 Train Epoch:   83 [49262/49262 (100%)]\tTrain Loss: 0.827549\tTest Loss: 0.851550\n",
      "11/25 11:12:23 Train Epoch:   84 [49262/49262 (100%)]\tTrain Loss: 0.827430\tTest Loss: 0.846316\n",
      "11/25 11:12:27 Train Epoch:   85 [49262/49262 (100%)]\tTrain Loss: 0.827458\tTest Loss: 0.842690\n",
      "11/25 11:12:32 Train Epoch:   86 [49262/49262 (100%)]\tTrain Loss: 0.827426\tTest Loss: 0.842011\n",
      "11/25 11:12:36 Train Epoch:   87 [49262/49262 (100%)]\tTrain Loss: 0.827013\tTest Loss: 0.846055\n",
      "11/25 11:12:40 Train Epoch:   88 [49262/49262 (100%)]\tTrain Loss: 0.827414\tTest Loss: 0.841569\n",
      "11/25 11:12:44 Train Epoch:   89 [49262/49262 (100%)]\tTrain Loss: 0.827129\tTest Loss: 0.839716\n",
      "11/25 11:12:48 Train Epoch:   90 [49262/49262 (100%)]\tTrain Loss: 0.826948\tTest Loss: 0.840861\n",
      "11/25 11:12:52 Train Epoch:   91 [49262/49262 (100%)]\tTrain Loss: 0.826942\tTest Loss: 0.842619\n",
      "11/25 11:12:56 Train Epoch:   92 [49262/49262 (100%)]\tTrain Loss: 0.827005\tTest Loss: 0.845980\n",
      "11/25 11:13:00 Train Epoch:   93 [49262/49262 (100%)]\tTrain Loss: 0.826805\tTest Loss: 0.845970\n",
      "11/25 11:13:04 Train Epoch:   94 [49262/49262 (100%)]\tTrain Loss: 0.826656\tTest Loss: 0.845910\n",
      "11/25 11:13:08 Train Epoch:   95 [49262/49262 (100%)]\tTrain Loss: 0.826686\tTest Loss: 0.843764\n",
      "11/25 11:13:12 Train Epoch:   96 [49262/49262 (100%)]\tTrain Loss: 0.826531\tTest Loss: 0.843165\n",
      "11/25 11:13:16 Train Epoch:   97 [49262/49262 (100%)]\tTrain Loss: 0.826433\tTest Loss: 0.844945\n",
      "11/25 11:13:20 Train Epoch:   98 [49262/49262 (100%)]\tTrain Loss: 0.826159\tTest Loss: 0.842025\n",
      "11/25 11:13:25 Train Epoch:   99 [49262/49262 (100%)]\tTrain Loss: 0.825921\tTest Loss: 0.845955\n",
      "11/25 11:13:29 Train Epoch:  100 [49262/49262 (100%)]\tTrain Loss: 0.826140\tTest Loss: 0.841937\n",
      "11/25 11:13:33 Train Epoch:  101 [49262/49262 (100%)]\tTrain Loss: 0.825960\tTest Loss: 0.838629\n",
      "11/25 11:13:37 Train Epoch:  102 [49262/49262 (100%)]\tTrain Loss: 0.825889\tTest Loss: 0.839072\n",
      "11/25 11:13:41 Train Epoch:  103 [49262/49262 (100%)]\tTrain Loss: 0.825904\tTest Loss: 0.845586\n",
      "11/25 11:13:45 Train Epoch:  104 [49262/49262 (100%)]\tTrain Loss: 0.825804\tTest Loss: 0.840284\n",
      "11/25 11:13:49 Train Epoch:  105 [49262/49262 (100%)]\tTrain Loss: 0.826125\tTest Loss: 0.842448\n",
      "11/25 11:13:53 Train Epoch:  106 [49262/49262 (100%)]\tTrain Loss: 0.825411\tTest Loss: 0.843016\n",
      "11/25 11:13:57 Train Epoch:  107 [49262/49262 (100%)]\tTrain Loss: 0.825793\tTest Loss: 0.840598\n",
      "11/25 11:14:01 Train Epoch:  108 [49262/49262 (100%)]\tTrain Loss: 0.825549\tTest Loss: 0.846307\n",
      "11/25 11:14:05 Train Epoch:  109 [49262/49262 (100%)]\tTrain Loss: 0.825359\tTest Loss: 0.840880\n",
      "11/25 11:14:09 Train Epoch:  110 [49262/49262 (100%)]\tTrain Loss: 0.825257\tTest Loss: 0.840895\n",
      "11/25 11:14:13 Train Epoch:  111 [49262/49262 (100%)]\tTrain Loss: 0.825274\tTest Loss: 0.837436\n",
      "11/25 11:14:17 Train Epoch:  112 [49262/49262 (100%)]\tTrain Loss: 0.825260\tTest Loss: 0.846851\n",
      "11/25 11:14:21 Train Epoch:  113 [49262/49262 (100%)]\tTrain Loss: 0.825162\tTest Loss: 0.841776\n",
      "11/25 11:14:25 Train Epoch:  114 [49262/49262 (100%)]\tTrain Loss: 0.824954\tTest Loss: 0.838588\n",
      "11/25 11:14:29 Train Epoch:  115 [49262/49262 (100%)]\tTrain Loss: 0.825049\tTest Loss: 0.841395\n",
      "11/25 11:14:34 Train Epoch:  116 [49262/49262 (100%)]\tTrain Loss: 0.824867\tTest Loss: 0.845936\n",
      "11/25 11:14:38 Train Epoch:  117 [49262/49262 (100%)]\tTrain Loss: 0.824973\tTest Loss: 0.841439\n",
      "11/25 11:14:42 Train Epoch:  118 [49262/49262 (100%)]\tTrain Loss: 0.824895\tTest Loss: 0.845618\n",
      "11/25 11:14:46 Train Epoch:  119 [49262/49262 (100%)]\tTrain Loss: 0.824633\tTest Loss: 0.840254\n",
      "11/25 11:14:50 Train Epoch:  120 [49262/49262 (100%)]\tTrain Loss: 0.824768\tTest Loss: 0.842672\n",
      "11/25 11:14:54 Train Epoch:  121 [49262/49262 (100%)]\tTrain Loss: 0.824656\tTest Loss: 0.841589\n",
      "11/25 11:14:58 Train Epoch:  122 [49262/49262 (100%)]\tTrain Loss: 0.824711\tTest Loss: 0.839054\n",
      "11/25 11:15:02 Train Epoch:  123 [49262/49262 (100%)]\tTrain Loss: 0.824490\tTest Loss: 0.842262\n",
      "11/25 11:15:06 Train Epoch:  124 [49262/49262 (100%)]\tTrain Loss: 0.824102\tTest Loss: 0.841500\n",
      "11/25 11:15:10 Train Epoch:  125 [49262/49262 (100%)]\tTrain Loss: 0.824630\tTest Loss: 0.839573\n",
      "11/25 11:15:14 Train Epoch:  126 [49262/49262 (100%)]\tTrain Loss: 0.824426\tTest Loss: 0.842719\n",
      "11/25 11:15:19 Train Epoch:  127 [49262/49262 (100%)]\tTrain Loss: 0.824080\tTest Loss: 0.837992\n",
      "11/25 11:15:23 Train Epoch:  128 [49262/49262 (100%)]\tTrain Loss: 0.824065\tTest Loss: 0.839861\n",
      "11/25 11:15:27 Train Epoch:  129 [49262/49262 (100%)]\tTrain Loss: 0.824525\tTest Loss: 0.840232\n",
      "11/25 11:15:31 Train Epoch:  130 [49262/49262 (100%)]\tTrain Loss: 0.824115\tTest Loss: 0.844426\n",
      "11/25 11:15:35 Train Epoch:  131 [49262/49262 (100%)]\tTrain Loss: 0.823824\tTest Loss: 0.839006\n",
      "11/25 11:15:39 Train Epoch:  132 [49262/49262 (100%)]\tTrain Loss: 0.823958\tTest Loss: 0.844734\n",
      "11/25 11:15:43 Train Epoch:  133 [49262/49262 (100%)]\tTrain Loss: 0.823686\tTest Loss: 0.842947\n",
      "11/25 11:15:47 Train Epoch:  134 [49262/49262 (100%)]\tTrain Loss: 0.823601\tTest Loss: 0.839349\n",
      "11/25 11:15:51 Train Epoch:  135 [49262/49262 (100%)]\tTrain Loss: 0.823993\tTest Loss: 0.839531\n",
      "11/25 11:15:55 Train Epoch:  136 [49262/49262 (100%)]\tTrain Loss: 0.823351\tTest Loss: 0.841935\n",
      "11/25 11:15:59 Train Epoch:  137 [49262/49262 (100%)]\tTrain Loss: 0.823405\tTest Loss: 0.839862\n",
      "11/25 11:16:04 Train Epoch:  138 [49262/49262 (100%)]\tTrain Loss: 0.823898\tTest Loss: 0.845333\n",
      "11/25 11:16:08 Train Epoch:  139 [49262/49262 (100%)]\tTrain Loss: 0.823518\tTest Loss: 0.844150\n",
      "11/25 11:16:12 Train Epoch:  140 [49262/49262 (100%)]\tTrain Loss: 0.823746\tTest Loss: 0.837294\n",
      "11/25 11:16:17 Train Epoch:  141 [49262/49262 (100%)]\tTrain Loss: 0.823764\tTest Loss: 0.836927\n",
      "11/25 11:16:21 Train Epoch:  142 [49262/49262 (100%)]\tTrain Loss: 0.823510\tTest Loss: 0.840434\n",
      "11/25 11:16:25 Train Epoch:  143 [49262/49262 (100%)]\tTrain Loss: 0.823166\tTest Loss: 0.840823\n",
      "11/25 11:16:29 Train Epoch:  144 [49262/49262 (100%)]\tTrain Loss: 0.823205\tTest Loss: 0.840867\n",
      "11/25 11:16:33 Train Epoch:  145 [49262/49262 (100%)]\tTrain Loss: 0.823084\tTest Loss: 0.839285\n",
      "11/25 11:16:37 Train Epoch:  146 [49262/49262 (100%)]\tTrain Loss: 0.823131\tTest Loss: 0.841925\n",
      "11/25 11:16:41 Train Epoch:  147 [49262/49262 (100%)]\tTrain Loss: 0.823275\tTest Loss: 0.848304\n",
      "11/25 11:16:45 Train Epoch:  148 [49262/49262 (100%)]\tTrain Loss: 0.822680\tTest Loss: 0.842151\n",
      "11/25 11:16:49 Train Epoch:  149 [49262/49262 (100%)]\tTrain Loss: 0.822780\tTest Loss: 0.846150\n",
      "11/25 11:16:53 Train Epoch:  150 [49262/49262 (100%)]\tTrain Loss: 0.823316\tTest Loss: 0.839821\n",
      "11/25 11:16:57 Train Epoch:  151 [49262/49262 (100%)]\tTrain Loss: 0.823028\tTest Loss: 0.843173\n",
      "11/25 11:17:00 Train Epoch:  152 [49262/49262 (100%)]\tTrain Loss: 0.822677\tTest Loss: 0.841111\n",
      "11/25 11:17:04 Train Epoch:  153 [49262/49262 (100%)]\tTrain Loss: 0.822584\tTest Loss: 0.841170\n",
      "11/25 11:17:08 Train Epoch:  154 [49262/49262 (100%)]\tTrain Loss: 0.822913\tTest Loss: 0.842116\n",
      "11/25 11:17:12 Train Epoch:  155 [49262/49262 (100%)]\tTrain Loss: 0.822623\tTest Loss: 0.839496\n",
      "11/25 11:17:16 Train Epoch:  156 [49262/49262 (100%)]\tTrain Loss: 0.822795\tTest Loss: 0.838854\n",
      "11/25 11:17:20 Train Epoch:  157 [49262/49262 (100%)]\tTrain Loss: 0.822550\tTest Loss: 0.837794\n",
      "11/25 11:17:23 Train Epoch:  158 [49262/49262 (100%)]\tTrain Loss: 0.822546\tTest Loss: 0.842294\n",
      "11/25 11:17:27 Train Epoch:  159 [49262/49262 (100%)]\tTrain Loss: 0.822601\tTest Loss: 0.839472\n",
      "11/25 11:17:31 Train Epoch:  160 [49262/49262 (100%)]\tTrain Loss: 0.822169\tTest Loss: 0.841722\n",
      "11/25 11:17:35 Train Epoch:  161 [49262/49262 (100%)]\tTrain Loss: 0.822545\tTest Loss: 0.840958\n",
      "11/25 11:17:39 Train Epoch:  162 [49262/49262 (100%)]\tTrain Loss: 0.822377\tTest Loss: 0.835938\n",
      "11/25 11:17:43 Train Epoch:  163 [49262/49262 (100%)]\tTrain Loss: 0.822509\tTest Loss: 0.838628\n",
      "11/25 11:17:47 Train Epoch:  164 [49262/49262 (100%)]\tTrain Loss: 0.822317\tTest Loss: 0.844443\n",
      "11/25 11:17:51 Train Epoch:  165 [49262/49262 (100%)]\tTrain Loss: 0.822212\tTest Loss: 0.841846\n",
      "11/25 11:17:55 Train Epoch:  166 [49262/49262 (100%)]\tTrain Loss: 0.822100\tTest Loss: 0.843656\n",
      "11/25 11:17:59 Train Epoch:  167 [49262/49262 (100%)]\tTrain Loss: 0.822133\tTest Loss: 0.842209\n",
      "11/25 11:18:03 Train Epoch:  168 [49262/49262 (100%)]\tTrain Loss: 0.822103\tTest Loss: 0.843981\n",
      "11/25 11:18:07 Train Epoch:  169 [49262/49262 (100%)]\tTrain Loss: 0.822244\tTest Loss: 0.841294\n",
      "11/25 11:18:11 Train Epoch:  170 [49262/49262 (100%)]\tTrain Loss: 0.821998\tTest Loss: 0.842091\n",
      "11/25 11:18:15 Train Epoch:  171 [49262/49262 (100%)]\tTrain Loss: 0.821879\tTest Loss: 0.839102\n",
      "11/25 11:18:19 Train Epoch:  172 [49262/49262 (100%)]\tTrain Loss: 0.821905\tTest Loss: 0.840366\n",
      "11/25 11:18:22 Train Epoch:  173 [49262/49262 (100%)]\tTrain Loss: 0.821774\tTest Loss: 0.838035\n",
      "11/25 11:18:26 Train Epoch:  174 [49262/49262 (100%)]\tTrain Loss: 0.821765\tTest Loss: 0.839252\n",
      "11/25 11:18:30 Train Epoch:  175 [49262/49262 (100%)]\tTrain Loss: 0.821679\tTest Loss: 0.844836\n",
      "11/25 11:18:34 Train Epoch:  176 [49262/49262 (100%)]\tTrain Loss: 0.821732\tTest Loss: 0.838994\n",
      "11/25 11:18:38 Train Epoch:  177 [49262/49262 (100%)]\tTrain Loss: 0.821952\tTest Loss: 0.839270\n",
      "11/25 11:18:42 Train Epoch:  178 [49262/49262 (100%)]\tTrain Loss: 0.821715\tTest Loss: 0.841111\n",
      "11/25 11:18:45 Train Epoch:  179 [49262/49262 (100%)]\tTrain Loss: 0.821648\tTest Loss: 0.843351\n",
      "11/25 11:18:49 Train Epoch:  180 [49262/49262 (100%)]\tTrain Loss: 0.821729\tTest Loss: 0.844704\n",
      "11/25 11:18:53 Train Epoch:  181 [49262/49262 (100%)]\tTrain Loss: 0.821404\tTest Loss: 0.839045\n",
      "11/25 11:18:57 Train Epoch:  182 [49262/49262 (100%)]\tTrain Loss: 0.821455\tTest Loss: 0.843937\n",
      "11/25 11:19:01 Train Epoch:  183 [49262/49262 (100%)]\tTrain Loss: 0.821548\tTest Loss: 0.839318\n",
      "11/25 11:19:04 Train Epoch:  184 [49262/49262 (100%)]\tTrain Loss: 0.821424\tTest Loss: 0.843844\n",
      "11/25 11:19:08 Train Epoch:  185 [49262/49262 (100%)]\tTrain Loss: 0.821538\tTest Loss: 0.837234\n",
      "11/25 11:19:12 Train Epoch:  186 [49262/49262 (100%)]\tTrain Loss: 0.821143\tTest Loss: 0.842028\n",
      "11/25 11:19:16 Train Epoch:  187 [49262/49262 (100%)]\tTrain Loss: 0.821381\tTest Loss: 0.841374\n",
      "11/25 11:19:23 Train Epoch:  188 [49262/49262 (100%)]\tTrain Loss: 0.821552\tTest Loss: 0.838925\n",
      "11/25 11:19:27 Train Epoch:  189 [49262/49262 (100%)]\tTrain Loss: 0.821702\tTest Loss: 0.839742\n",
      "11/25 11:19:30 Train Epoch:  190 [49262/49262 (100%)]\tTrain Loss: 0.821226\tTest Loss: 0.840743\n",
      "11/25 11:19:34 Train Epoch:  191 [49262/49262 (100%)]\tTrain Loss: 0.821600\tTest Loss: 0.839689\n",
      "11/25 11:19:38 Train Epoch:  192 [49262/49262 (100%)]\tTrain Loss: 0.821170\tTest Loss: 0.839063\n",
      "11/25 11:19:42 Train Epoch:  193 [49262/49262 (100%)]\tTrain Loss: 0.821215\tTest Loss: 0.838718\n",
      "11/25 11:19:46 Train Epoch:  194 [49262/49262 (100%)]\tTrain Loss: 0.821316\tTest Loss: 0.838605\n",
      "11/25 11:19:49 Train Epoch:  195 [49262/49262 (100%)]\tTrain Loss: 0.820708\tTest Loss: 0.839299\n",
      "11/25 11:19:53 Train Epoch:  196 [49262/49262 (100%)]\tTrain Loss: 0.821289\tTest Loss: 0.842494\n",
      "11/25 11:19:57 Train Epoch:  197 [49262/49262 (100%)]\tTrain Loss: 0.821337\tTest Loss: 0.839968\n",
      "11/25 11:20:01 Train Epoch:  198 [49262/49262 (100%)]\tTrain Loss: 0.821007\tTest Loss: 0.844336\n",
      "11/25 11:20:05 Train Epoch:  199 [49262/49262 (100%)]\tTrain Loss: 0.821066\tTest Loss: 0.840801\n",
      "11/25 11:20:09 Train Epoch:  200 [49262/49262 (100%)]\tTrain Loss: 0.820886\tTest Loss: 0.838675\n"
     ]
    }
   ],
   "source": [
    "# Train the model\n",
    "train_loss, test_loss = train(model, EPOCHS, train_loader, test_loader, optimizer, scheduler, criterion)"
   ]
  },
  {
   "cell_type": "code",
   "execution_count": 53,
   "metadata": {},
   "outputs": [
    {
     "data": {
      "image/png": "[encoded data removed]",
      "text/plain": [
       "<Figure size 640x480 with 1 Axes>"
      ]
     },
     "metadata": {},
     "output_type": "display_data"
    }
   ],
   "source": [
    "# Plot losses\n",
    "plt.plot(range(1, EPOCHS + 1), train_loss, label=\"Train loss\")\n",
    "plt.plot(range(1, EPOCHS + 1), test_loss, label=\"Test loss\")\n",
    "plt.xlabel(\"Epoch\")\n",
    "plt.ylabel(\"Loss\")\n",
    "plt.legend()\n",
    "plt.show()"
   ]
  },
  {
   "cell_type": "code",
   "execution_count": 54,
   "metadata": {},
   "outputs": [
    {
     "data": {
      "image/png": "[encoded data removed]",
      "text/plain": [
       "<Figure size 640x480 with 1 Axes>"
      ]
     },
     "metadata": {},
     "output_type": "display_data"
    }
   ],
   "source": [
    "# Plot normalized losses\n",
    "plt.plot(range(1, EPOCHS + 1), np.array(train_loss) / np.max(train_loss), label=\"Train loss\")\n",
    "plt.plot(range(1, EPOCHS + 1), np.array(test_loss) / np.max(test_loss), label=\"Test loss\")\n",
    "plt.xlabel(\"Epoch\")\n",
    "plt.ylabel(\"Loss\")\n",
    "plt.legend()\n",
    "plt.show()"
   ]
  },
  {
   "cell_type": "code",
   "execution_count": 55,
   "metadata": {},
   "outputs": [],
   "source": [
    "# New model\n",
    "if model_name is None:\n",
    "    model_name = f\"{datetime.now().strftime('%y%m%d%H%M%S')}_model_{model.__class__.__name__}_E{EPOCHS}_B{BATCH_SIZE}_LR{LR}_GAMMA{GAMMA}_TRAIN{train_loss[-1]:.4f}_TEST{test_loss[-1]:.4f}.pth\""
   ]
  },
  {
   "cell_type": "code",
   "execution_count": 56,
   "metadata": {},
   "outputs": [
    {
     "name": "stdout",
     "output_type": "stream",
     "text": [
      "Model saved as model\n"
     ]
    }
   ],
   "source": [
    "# Save the model\n",
    "if not os.path.exists(save_path):\n",
    "    os.makedirs(save_path)\n",
    "torch.save(model.state_dict(), save_path + model_name + \".pth\")\n",
    "print(f\"Model saved as {model_name}\")"
   ]
  },
  {
   "cell_type": "markdown",
   "metadata": {},
   "source": [
    "## Evaluation"
   ]
  },
  {
   "cell_type": "code",
   "execution_count": 62,
   "metadata": {},
   "outputs": [
    {
     "data": {
      "text/plain": [
       "<All keys matched successfully>"
      ]
     },
     "execution_count": 62,
     "metadata": {},
     "output_type": "execute_result"
    }
   ],
   "source": [
    "# Load the model\n",
    "model = SingleHeadSingleClass().to(DEVICE)\n",
    "model.load_state_dict(\n",
    "    torch.load(\"models/single_head_single_class/saved/model.pth\", weights_only=True, map_location=DEVICE)\n",
    ")"
   ]
  },
  {
   "cell_type": "code",
   "execution_count": 63,
   "metadata": {},
   "outputs": [],
   "source": [
    "def break_out_solution(solutions):\n",
    "    # Convert to numpy\n",
    "    solutions = solutions.cpu().detach().numpy()\n",
    "\n",
    "    # Columns 1-3 are class 1\n",
    "    return [np.argmax(solutions[:, :3], axis=1)]"
   ]
  },
  {
   "cell_type": "code",
   "execution_count": 64,
   "metadata": {},
   "outputs": [
    {
     "name": "stdout",
     "output_type": "stream",
     "text": [
      "Cross Entropy loss: 0.8411967324227402\n",
      "MSE loss: 0.05817599767415794\n"
     ]
    }
   ],
   "source": [
    "from ipynb.fs.defs.functions import test\n",
    "\n",
    "# Create a validation data loader\n",
    "val_loader = torch.utils.data.DataLoader(val_dataset, batch_size=BATCH_SIZE, shuffle=False)\n",
    "\n",
    "# Test the model\n",
    "criterion = nn.CrossEntropyLoss()\n",
    "val_loss = test(model, val_loader, criterion)\n",
    "print(f\"Cross Entropy loss: {val_loss}\")\n",
    "\n",
    "criterion = nn.MSELoss()\n",
    "val_loss = test(model, val_loader, criterion)\n",
    "print(f\"MSE loss: {val_loss}\")"
   ]
  },
  {
   "cell_type": "code",
   "execution_count": 59,
   "metadata": {},
   "outputs": [
    {
     "name": "stdout",
     "output_type": "stream",
     "text": [
      "Class 1:\n",
      "Accuracy: 0.839\n",
      "Precision: 0.5647074610842727\n",
      "Recall: 0.570157685451803\n",
      "F1 Score: 0.560064800310613\n",
      "\n"
     ]
    },
    {
     "name": "stderr",
     "output_type": "stream",
     "text": [
      "c:\\Users\\ethan\\school\\MSAAI\\AAI 521\\final_project\\.venv\\Lib\\site-packages\\sklearn\\metrics\\_classification.py:1531: UndefinedMetricWarning: Precision is ill-defined and being set to 0.0 in labels with no predicted samples. Use `zero_division` parameter to control this behavior.\n",
      "  _warn_prf(average, modifier, f\"{metric.capitalize()} is\", len(result))\n"
     ]
    }
   ],
   "source": [
    "# Evaluation Metrics\n",
    "model.eval()\n",
    "\n",
    "# Eval Size\n",
    "eval_size = 1000\n",
    "\n",
    "# Create a data loader for the test data\n",
    "val_loader = torch.utils.data.DataLoader(val_dataset, batch_size=BATCH_SIZE, shuffle=False)\n",
    "\n",
    "true_labels = break_out_solution(val_dataset.tensors[1][:eval_size])\n",
    "pred_labels = break_out_solution(model(val_dataset.tensors[0][:eval_size].to(DEVICE)))\n",
    "\n",
    "# Calculate evaluation metrics\n",
    "for i in range(len(true_labels)):\n",
    "    print(f\"Class {i + 1}:\")\n",
    "    print(f\"Accuracy: {accuracy_score(true_labels[i], pred_labels[i])}\")\n",
    "    print(f\"Precision: {precision_score(true_labels[i], pred_labels[i], average='macro')}\")\n",
    "    print(f\"Recall: {recall_score(true_labels[i], pred_labels[i], average='macro')}\")\n",
    "    print(f\"F1 Score: {f1_score(true_labels[i], pred_labels[i], average='macro')}\")\n",
    "    print()"
   ]
  },
  {
   "cell_type": "code",
   "execution_count": 60,
   "metadata": {},
   "outputs": [
    {
     "name": "stdout",
     "output_type": "stream",
     "text": [
      "Class 1:\n"
     ]
    },
    {
     "data": {
      "image/png": "[encoded data removed]",
      "text/plain": [
       "<Figure size 640x480 with 2 Axes>"
      ]
     },
     "metadata": {},
     "output_type": "display_data"
    },
    {
     "name": "stdout",
     "output_type": "stream",
     "text": [
      "\n"
     ]
    }
   ],
   "source": [
    "# Display confusion matrices in pretty format\n",
    "for i in range(len(true_labels)):\n",
    "    print(f\"Class {i + 1}:\")\n",
    "    cm = confusion_matrix(true_labels[i], pred_labels[i])\n",
    "    disp = ConfusionMatrixDisplay(cm)\n",
    "    disp.plot()\n",
    "    plt.show()\n",
    "    print()\n"
   ]
  }
 ],
 "metadata": {
  "kernelspec": {
   "display_name": ".venv",
   "language": "python",
   "name": "python3"
  },
  "language_info": {
   "codemirror_mode": {
    "name": "ipython",
    "version": 3
   },
   "file_extension": ".py",
   "mimetype": "text/x-python",
   "name": "python",
   "nbconvert_exporter": "python",
   "pygments_lexer": "ipython3",
   "version": "3.12.7"
  }
 },
 "nbformat": 4,
 "nbformat_minor": 2
}
